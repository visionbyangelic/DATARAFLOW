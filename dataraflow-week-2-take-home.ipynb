{
 "cells": [
  {
   "cell_type": "markdown",
   "id": "3ec8d099",
   "metadata": {
    "papermill": {
     "duration": 0.010336,
     "end_time": "2025-09-20T23:58:39.125360",
     "exception": false,
     "start_time": "2025-09-20T23:58:39.115024",
     "status": "completed"
    },
    "tags": []
   },
   "source": [
    "## Task – Course 1 OOP\n",
    "\n",
    "**1.** When the class object is represented as a string, there is a method that controls what should be returned, which one?\n",
    "\n",
    "```python\n",
    " __str__() method\n",
    "```\n",
    "\n",
    "---\n",
    "\n",
    "**2.** What is a correct syntax for deleting an object named person in Python?\n",
    "\n",
    "```python\n",
    " del person\n",
    "```\n",
    "\n",
    "---\n",
    "\n",
    "**3.** Create a class named MyClass:\n",
    "\n",
    "```python\n",
    "class MyClass:\n",
    "    x = 5\n",
    "```\n",
    "\n",
    "---\n",
    "\n",
    "**4.** Create an object of MyClass called p1:\n",
    "\n",
    "```python\n",
    "p1 = MyClass()\n",
    "```\n",
    "\n",
    "---\n",
    "\n",
    "**5.** Use the p1 object to print the value of x:\n",
    "\n",
    "```python\n",
    "print(p1.x)\n",
    "```\n",
    "\n",
    "---\n",
    "\n",
    "**6.** What is the correct syntax to assign an \"init\" method to a class?\n",
    "\n",
    "```python\n",
    "def __init__(self, name, age):\n",
    "    self.name = name\n",
    "    self.age = age\n",
    "```\n",
    "\n",
    "---\n",
    "\n",
    "**7.** Insert the missing parts to make the code return: `John(36)`\n",
    "\n",
    "```python\n",
    "___ Person:\n",
    "  ___  ___ (self, name, age):\n",
    "    self.name = name\n",
    "    self.age = age\n",
    "  def ___(self):\n",
    "    return f'{___.___}({self.___})\n",
    "p1 = Person('John', 36)\n",
    "print(p1)\n",
    "```"
   ]
  },
  {
   "cell_type": "code",
   "execution_count": 1,
   "id": "698089be",
   "metadata": {
    "execution": {
     "iopub.execute_input": "2025-09-20T23:58:39.145708Z",
     "iopub.status.busy": "2025-09-20T23:58:39.144819Z",
     "iopub.status.idle": "2025-09-20T23:58:39.154525Z",
     "shell.execute_reply": "2025-09-20T23:58:39.153681Z"
    },
    "papermill": {
     "duration": 0.020806,
     "end_time": "2025-09-20T23:58:39.155785",
     "exception": false,
     "start_time": "2025-09-20T23:58:39.134979",
     "status": "completed"
    },
    "tags": []
   },
   "outputs": [
    {
     "name": "stdout",
     "output_type": "stream",
     "text": [
      "John(36)\n"
     ]
    }
   ],
   "source": [
    " class Person:\n",
    "  def  __init__ (self, name, age):\n",
    "    self.name = name\n",
    "    self.age = age\n",
    "\n",
    "  def __str__(self):\n",
    "    return f\"{self.name}({self.age})\"\n",
    "\n",
    "p1 = Person('John', 36)\n",
    "print(p1)"
   ]
  },
  {
   "cell_type": "markdown",
   "id": "216b2b19",
   "metadata": {
    "papermill": {
     "duration": 0.009499,
     "end_time": "2025-09-20T23:58:39.174718",
     "exception": false,
     "start_time": "2025-09-20T23:58:39.165219",
     "status": "completed"
    },
    "tags": []
   },
   "source": [
    "## Solve Task For - Course 2 Below\n"
   ]
  },
  {
   "cell_type": "markdown",
   "id": "69399832",
   "metadata": {
    "papermill": {
     "duration": 0.008785,
     "end_time": "2025-09-20T23:58:39.192694",
     "exception": false,
     "start_time": "2025-09-20T23:58:39.183909",
     "status": "completed"
    },
    "tags": []
   },
   "source": [
    "**1.** What is the correct keyword to use inside an empty class, to avoid getting an error?\n",
    "\n",
    "```python\n",
    " pass\n",
    "```\n",
    "\n",
    "---\n",
    "\n",
    "**2.** What is the correct syntax to create a class named Student that will inherit properties and methods from a class named Person?\n",
    "\n",
    "```python\n",
    "class Student(Person):\n",
    "    pass\n",
    "```\n",
    "\n",
    "---\n",
    "\n",
    "**3.** You have used the Student class that has a method `printname` to create an object named x.\n",
    "What is the correct syntax to execute the `printname` method of the object x?\n",
    "\n",
    "```python\n",
    "x.printname()\n",
    "```\n",
    "\n",
    "---\n",
    "\n"
   ]
  },
  {
   "cell_type": "markdown",
   "id": "7800d2d6",
   "metadata": {
    "papermill": {
     "duration": 0.008827,
     "end_time": "2025-09-20T23:58:39.210524",
     "exception": false,
     "start_time": "2025-09-20T23:58:39.201697",
     "status": "completed"
    },
    "tags": []
   },
   "source": [
    "4. Create a base class Animal with attributes name and sound, and a method make_sound(). Create two subclasses Dog and Cat that inherit from Animal and override make_sound() to print \"Woof!\" and \"Meow!\" respectively. Create objects of each subclass and call their methods.\n"
   ]
  },
  {
   "cell_type": "code",
   "execution_count": 2,
   "id": "7ebc643e",
   "metadata": {
    "execution": {
     "iopub.execute_input": "2025-09-20T23:58:39.230216Z",
     "iopub.status.busy": "2025-09-20T23:58:39.229899Z",
     "iopub.status.idle": "2025-09-20T23:58:39.236704Z",
     "shell.execute_reply": "2025-09-20T23:58:39.235825Z"
    },
    "papermill": {
     "duration": 0.018465,
     "end_time": "2025-09-20T23:58:39.238021",
     "exception": false,
     "start_time": "2025-09-20T23:58:39.219556",
     "status": "completed"
    },
    "tags": []
   },
   "outputs": [
    {
     "name": "stdout",
     "output_type": "stream",
     "text": [
      "Woof!\n",
      "Meow!\n"
     ]
    }
   ],
   "source": [
    "# Base class (parent)\n",
    "class Animal:\n",
    "    def __init__(self, name, sound):\n",
    "        # Every animal has a name and a sound\n",
    "        self.name = name\n",
    "        self.sound = sound\n",
    "\n",
    "    def make_sound(self):\n",
    "        # Print the sound of the animal\n",
    "        print(self.sound)\n",
    "\n",
    "\n",
    "# Child class: Dog inherits from Animal\n",
    "class Dog(Animal):\n",
    "    def __init__(self, name):\n",
    "        # Use super() to call the parent constructor\n",
    "        super().__init__(name, \"Woof!\")\n",
    "\n",
    "\n",
    "# Child class: Cat inherits from Animal\n",
    "class Cat(Animal):\n",
    "    def __init__(self, name):\n",
    "        # Use super() to call the parent constructor\n",
    "        super().__init__(name, \"Meow!\")\n",
    "\n",
    "\n",
    "# Create objects\n",
    "dog = Dog(\"Buddy\")\n",
    "cat = Cat(\"Kitty\")\n",
    "\n",
    "# Call their method\n",
    "dog.make_sound()   # Output: Woof!\n",
    "cat.make_sound()   # Output: Meow!\n"
   ]
  },
  {
   "cell_type": "markdown",
   "id": "4c0aa457",
   "metadata": {
    "papermill": {
     "duration": 0.008705,
     "end_time": "2025-09-20T23:58:39.255866",
     "exception": false,
     "start_time": "2025-09-20T23:58:39.247161",
     "status": "completed"
    },
    "tags": []
   },
   "source": [
    "---"
   ]
  },
  {
   "cell_type": "markdown",
   "id": "6d296cd3",
   "metadata": {
    "papermill": {
     "duration": 0.008801,
     "end_time": "2025-09-20T23:58:39.273571",
     "exception": false,
     "start_time": "2025-09-20T23:58:39.264770",
     "status": "completed"
    },
    "tags": []
   },
   "source": [
    "5. Create a base class Shape with a method area() that raises NotImplementedError. Create subclasses Rectangle and Circle that implement area() appropriately. Instantiate both and print their areas.\n"
   ]
  },
  {
   "cell_type": "code",
   "execution_count": 3,
   "id": "a8cab70b",
   "metadata": {
    "execution": {
     "iopub.execute_input": "2025-09-20T23:58:39.292610Z",
     "iopub.status.busy": "2025-09-20T23:58:39.292342Z",
     "iopub.status.idle": "2025-09-20T23:58:39.298854Z",
     "shell.execute_reply": "2025-09-20T23:58:39.297987Z"
    },
    "papermill": {
     "duration": 0.017709,
     "end_time": "2025-09-20T23:58:39.300196",
     "exception": false,
     "start_time": "2025-09-20T23:58:39.282487",
     "status": "completed"
    },
    "tags": []
   },
   "outputs": [
    {
     "name": "stdout",
     "output_type": "stream",
     "text": [
      "Rectangle area: 50\n",
      "Circle area: 153.93804002589985\n"
     ]
    }
   ],
   "source": [
    "class Shape:\n",
    "    def area(self):\n",
    "        raise NotImplementedError(\"Subclasses must implement this method\")\n",
    "\n",
    "\n",
    "class Rectangle(Shape):\n",
    "    def __init__(self, length, width):\n",
    "        self.length = length\n",
    "        self.width = width\n",
    "\n",
    "    def area(self):\n",
    "        return self.length * self.width\n",
    "\n",
    "\n",
    "class Circle(Shape):\n",
    "    def __init__(self, radius):\n",
    "        self.radius = radius\n",
    "# Hardcoding pi instead of importing from math since we havent learnt this yet. \n",
    "        self.pi = 3.141592653589793  \n",
    "\n",
    "    def area(self):\n",
    "        return self.pi * (self.radius ** 2)\n",
    "\n",
    "\n",
    "# Instantiate and print areas\n",
    "rect = Rectangle(5, 10)\n",
    "circle = Circle(7)\n",
    "\n",
    "print(\"Rectangle area:\", rect.area())\n",
    "print(\"Circle area:\", circle.area())\n"
   ]
  },
  {
   "cell_type": "markdown",
   "id": "13fcb525",
   "metadata": {
    "papermill": {
     "duration": 0.008876,
     "end_time": "2025-09-20T23:58:39.318334",
     "exception": false,
     "start_time": "2025-09-20T23:58:39.309458",
     "status": "completed"
    },
    "tags": []
   },
   "source": [
    "---"
   ]
  },
  {
   "cell_type": "markdown",
   "id": "ba66a76c",
   "metadata": {
    "papermill": {
     "duration": 0.012448,
     "end_time": "2025-09-20T23:58:39.341545",
     "exception": false,
     "start_time": "2025-09-20T23:58:39.329097",
     "status": "completed"
    },
    "tags": []
   },
   "source": [
    "6. Create a base class BankAccount with owner, balance, and methods deposit() and withdraw(). Create a subclass SavingsAccount that adds an interest_rate and a method add_interest() which increases the balance. Demonstrate deposits, withdrawals, and interest application.\n"
   ]
  },
  {
   "cell_type": "code",
   "execution_count": 4,
   "id": "fbd8b401",
   "metadata": {
    "execution": {
     "iopub.execute_input": "2025-09-20T23:58:39.363841Z",
     "iopub.status.busy": "2025-09-20T23:58:39.362999Z",
     "iopub.status.idle": "2025-09-20T23:58:39.374391Z",
     "shell.execute_reply": "2025-09-20T23:58:39.373312Z"
    },
    "papermill": {
     "duration": 0.024874,
     "end_time": "2025-09-20T23:58:39.376050",
     "exception": false,
     "start_time": "2025-09-20T23:58:39.351176",
     "status": "completed"
    },
    "tags": []
   },
   "outputs": [
    {
     "name": "stdout",
     "output_type": "stream",
     "text": [
      "Nerdy deposited 500. New balance: 1500\n",
      "Nerdy withdrew 300. New balance: 1200\n",
      "Interest added: 120.00. New balance: 1320.00\n"
     ]
    }
   ],
   "source": [
    "# Parent class: BankAccount\n",
    "class BankAccount:\n",
    "    def __init__(self, owner, balance=0):\n",
    "        # Each account has an owner and an initial balance (default is 0)\n",
    "        self.owner = owner\n",
    "        self.balance = balance\n",
    "\n",
    "    def deposit(self, amount):\n",
    "        # Add money to the balance\n",
    "        self.balance += amount\n",
    "        print(f\"{self.owner} deposited {amount}. New balance: {self.balance}\")\n",
    "\n",
    "    def withdraw(self, amount):\n",
    "        # Withdraw money if balance is enough, else show insufficient funds\n",
    "        if amount <= self.balance:\n",
    "            self.balance -= amount\n",
    "            print(f\"{self.owner} withdrew {amount}. New balance: {self.balance}\")\n",
    "        else:\n",
    "            print(f\"Insufficient funds for {self.owner}. Balance remains: {self.balance}\")\n",
    "\n",
    "\n",
    "# Child class: SavingsAccount inherits from BankAccount\n",
    "class SavingsAccount(BankAccount):\n",
    "    def __init__(self, owner, balance=0, interest_rate=0.05):\n",
    "        # Call the parent constructor to initialize owner and balance\n",
    "        super().__init__(owner, balance)\n",
    "        # Add a new attribute: interest rate\n",
    "        self.interest_rate = interest_rate\n",
    "\n",
    "    def add_interest(self):\n",
    "        # Calculate interest based on current balance\n",
    "        interest = self.balance * self.interest_rate\n",
    "        # Add interest to balance\n",
    "        self.balance += interest\n",
    "        print(f\"Interest added: {interest:.2f}. New balance: {self.balance:.2f}\")\n",
    "\n",
    "\n",
    "# Demonstration\n",
    "savings = SavingsAccount(\"Nerdy\", 1000, 0.1)  # Create account with 10% interest\n",
    "\n",
    "savings.deposit(500)      # Deposit money\n",
    "savings.withdraw(300)     # Withdraw money\n",
    "savings.add_interest()    # Apply interest to balance\n",
    "\n"
   ]
  },
  {
   "cell_type": "markdown",
   "id": "594b5ab5",
   "metadata": {
    "papermill": {
     "duration": 0.009423,
     "end_time": "2025-09-20T23:58:39.394940",
     "exception": false,
     "start_time": "2025-09-20T23:58:39.385517",
     "status": "completed"
    },
    "tags": []
   },
   "source": [
    "---"
   ]
  },
  {
   "cell_type": "markdown",
   "id": "63fea250",
   "metadata": {
    "papermill": {
     "duration": 0.00924,
     "end_time": "2025-09-20T23:58:39.413374",
     "exception": false,
     "start_time": "2025-09-20T23:58:39.404134",
     "status": "completed"
    },
    "tags": []
   },
   "source": [
    "7. Create a base class Vehicle with attributes brand and model, and a method display_info(). Create a subclass Car that adds doors and overrides display_info(). Create another subclass ElectricCar (child of Car) that adds battery_capacity and overrides display_info() to include all details. Create an ElectricCar object and call display_info().\n"
   ]
  },
  {
   "cell_type": "code",
   "execution_count": 5,
   "id": "2fb33786",
   "metadata": {
    "execution": {
     "iopub.execute_input": "2025-09-20T23:58:39.433264Z",
     "iopub.status.busy": "2025-09-20T23:58:39.432490Z",
     "iopub.status.idle": "2025-09-20T23:58:39.440037Z",
     "shell.execute_reply": "2025-09-20T23:58:39.439266Z"
    },
    "papermill": {
     "duration": 0.019,
     "end_time": "2025-09-20T23:58:39.441375",
     "exception": false,
     "start_time": "2025-09-20T23:58:39.422375",
     "status": "completed"
    },
    "tags": []
   },
   "outputs": [
    {
     "name": "stdout",
     "output_type": "stream",
     "text": [
      "Electric Car: Tesla Model S, 4 doors, 100 kWh battery\n"
     ]
    }
   ],
   "source": [
    "# Parent class: Vehicle\n",
    "class Vehicle:\n",
    "    def __init__(self, brand, model):\n",
    "        # Common attributes for all vehicles\n",
    "        self.brand = brand\n",
    "        self.model = model\n",
    "\n",
    "    def display_info(self):\n",
    "        # Display basic vehicle information\n",
    "        print(f\"Vehicle: {self.brand} {self.model}\")\n",
    "\n",
    "\n",
    "# Child class: Car inherits from Vehicle\n",
    "class Car(Vehicle):\n",
    "    def __init__(self, brand, model, doors):\n",
    "        # Call parent constructor to set brand and model\n",
    "        super().__init__(brand, model)\n",
    "        # Add new attribute: number of doors\n",
    "        self.doors = doors\n",
    "\n",
    "    def display_info(self):\n",
    "        # Override display_info to include doors\n",
    "        print(f\"Car: {self.brand} {self.model}, {self.doors} doors\")\n",
    "\n",
    "\n",
    "# Grandchild class: ElectricCar inherits from Car\n",
    "class ElectricCar(Car):\n",
    "    def __init__(self, brand, model, doors, battery_capacity):\n",
    "        # Call parent (Car) constructor\n",
    "        super().__init__(brand, model, doors)\n",
    "        # Add new attribute: battery capacity\n",
    "        self.battery_capacity = battery_capacity\n",
    "\n",
    "    def display_info(self):\n",
    "        # Override display_info to include battery capacity\n",
    "        print(f\"Electric Car: {self.brand} {self.model}, {self.doors} doors, {self.battery_capacity} kWh battery\")\n",
    "\n",
    "\n",
    "# Create an ElectricCar object and display its info\n",
    "ecar = ElectricCar(\"Tesla\", \"Model S\", 4, 100)\n",
    "ecar.display_info()  # Output: Electric Car: Tesla Model S, 4 doors, 100 kWh battery\n"
   ]
  },
  {
   "cell_type": "markdown",
   "id": "9577ae14",
   "metadata": {
    "papermill": {
     "duration": 0.009219,
     "end_time": "2025-09-20T23:58:39.519697",
     "exception": false,
     "start_time": "2025-09-20T23:58:39.510478",
     "status": "completed"
    },
    "tags": []
   },
   "source": [
    "## Solve Task For - Course 3 Below\n"
   ]
  },
  {
   "cell_type": "markdown",
   "id": "c3d24df8",
   "metadata": {
    "papermill": {
     "duration": 0.009188,
     "end_time": "2025-09-20T23:58:39.538248",
     "exception": false,
     "start_time": "2025-09-20T23:58:39.529060",
     "status": "completed"
    },
    "tags": []
   },
   "source": [
    "**1** There are two methods that you have to implement when you create an iterator, which two?\n",
    "\n",
    "```python\n",
    " __iter__() and __next__()\n",
    "```\n",
    "---\n",
    "\n",
    "**2** Which statement can be used to stop the iteration?\n",
    "\n",
    "```python\n",
    " raise StopIteration\n",
    "```\n",
    "---\n",
    "\n",
    "**3** True or False. Lists, tuples, dictionaries, and sets are all iterable objects and why?.\n",
    "\n",
    "```python\n",
    "True, Lists, tuples, dictionaries, and sets are all iterable objects. They are iterable containers which you can get an iterator from.\n",
    "All these objects have a iter() method which is used to get an iterator.\n",
    "```\n",
    "\n",
    "---\n",
    "\n",
    "**4** Take a list of numbers [10, 20, 30, 40, 50].\n",
    "Convert it into an iterator using iter() and retrieve each element using next().\n",
    "Handle the StopIteration exception gracefully when there are no more items.\n",
    "\n",
    "\n"
   ]
  },
  {
   "cell_type": "code",
   "execution_count": 6,
   "id": "61f3efab",
   "metadata": {
    "execution": {
     "iopub.execute_input": "2025-09-20T23:58:39.558331Z",
     "iopub.status.busy": "2025-09-20T23:58:39.557578Z",
     "iopub.status.idle": "2025-09-20T23:58:39.563668Z",
     "shell.execute_reply": "2025-09-20T23:58:39.562366Z"
    },
    "papermill": {
     "duration": 0.017621,
     "end_time": "2025-09-20T23:58:39.565080",
     "exception": false,
     "start_time": "2025-09-20T23:58:39.547459",
     "status": "completed"
    },
    "tags": []
   },
   "outputs": [
    {
     "name": "stdout",
     "output_type": "stream",
     "text": [
      "10\n",
      "20\n",
      "30\n",
      "40\n",
      "50\n",
      "No more items in Iterator\n"
     ]
    }
   ],
   "source": [
    "numbers = [10, 20, 30, 40, 50]\n",
    "\n",
    "#convert list into iterator\n",
    "iterator = iter(numbers)\n",
    "\n",
    "try: \n",
    "    while True:\n",
    "        #get next element\n",
    "        print(next(iterator))\n",
    "except StopIteration:\n",
    "    #raised when no more items are left\n",
    "    print('No more items in Iterator')"
   ]
  },
  {
   "cell_type": "markdown",
   "id": "4ff13648",
   "metadata": {
    "papermill": {
     "duration": 0.009314,
     "end_time": "2025-09-20T23:58:39.584184",
     "exception": false,
     "start_time": "2025-09-20T23:58:39.574870",
     "status": "completed"
    },
    "tags": []
   },
   "source": [
    "---\n"
   ]
  },
  {
   "cell_type": "markdown",
   "id": "7c7641e5",
   "metadata": {
    "papermill": {
     "duration": 0.009097,
     "end_time": "2025-09-20T23:58:39.602655",
     "exception": false,
     "start_time": "2025-09-20T23:58:39.593558",
     "status": "completed"
    },
    "tags": []
   },
   "source": [
    "**5** Create a class CountDown that takes a number n and counts down to 1.\n",
    "Implement the iterator protocol (__iter__() and __next__() methods).\n",
    "Use it in a for loop to print numbers in reverse order.\n"
   ]
  },
  {
   "cell_type": "code",
   "execution_count": 7,
   "id": "cd490800",
   "metadata": {
    "execution": {
     "iopub.execute_input": "2025-09-20T23:58:39.622412Z",
     "iopub.status.busy": "2025-09-20T23:58:39.622094Z",
     "iopub.status.idle": "2025-09-20T23:58:39.628155Z",
     "shell.execute_reply": "2025-09-20T23:58:39.627272Z"
    },
    "papermill": {
     "duration": 0.017545,
     "end_time": "2025-09-20T23:58:39.629506",
     "exception": false,
     "start_time": "2025-09-20T23:58:39.611961",
     "status": "completed"
    },
    "tags": []
   },
   "outputs": [
    {
     "name": "stdout",
     "output_type": "stream",
     "text": [
      "4\n",
      "3\n",
      "2\n",
      "1\n"
     ]
    }
   ],
   "source": [
    "# A custom iterator class that counts down from a given number\n",
    "class countdown:\n",
    "    def __init__(self, n):\n",
    "        # Initialize the starting number\n",
    "        self.n = n\n",
    "\n",
    "    def __iter__(self):\n",
    "        # __iter__ returns the iterator object itself\n",
    "        return self\n",
    "\n",
    "    def __next__(self):\n",
    "        # Define what happens when \"next()\" is called\n",
    "        if self.n > 0: \n",
    "            x = self.n      # Save the current value\n",
    "            self.n -= 1     # Decrease by 1 for the next call\n",
    "            return x        # Return the current countdown number\n",
    "        else: \n",
    "            # StopIteration tells Python the loop should end\n",
    "            raise StopIteration\n",
    "\n",
    "\n",
    "# Demo: iterate through countdown from 4 → 1\n",
    "for num in countdown(4):\n",
    "    print(num)   # Output: 4, 3, 2, 1\n"
   ]
  },
  {
   "cell_type": "markdown",
   "id": "6a189660",
   "metadata": {
    "papermill": {
     "duration": 0.009156,
     "end_time": "2025-09-20T23:58:39.648313",
     "exception": false,
     "start_time": "2025-09-20T23:58:39.639157",
     "status": "completed"
    },
    "tags": []
   },
   "source": [
    "---"
   ]
  },
  {
   "cell_type": "markdown",
   "id": "3fcf7e21",
   "metadata": {
    "papermill": {
     "duration": 0.008998,
     "end_time": "2025-09-20T23:58:39.666601",
     "exception": false,
     "start_time": "2025-09-20T23:58:39.657603",
     "status": "completed"
    },
    "tags": []
   },
   "source": [
    "**6** Create a class EvenNumbers that generates even numbers starting from 0.\n",
    "The iterator should be infinite (no StopIteration).\n",
    "Demonstrate usage by printing the first 10 even numbers using a loop and break."
   ]
  },
  {
   "cell_type": "code",
   "execution_count": 8,
   "id": "09076a09",
   "metadata": {
    "execution": {
     "iopub.execute_input": "2025-09-20T23:58:39.686864Z",
     "iopub.status.busy": "2025-09-20T23:58:39.686084Z",
     "iopub.status.idle": "2025-09-20T23:58:39.692025Z",
     "shell.execute_reply": "2025-09-20T23:58:39.691152Z"
    },
    "papermill": {
     "duration": 0.017615,
     "end_time": "2025-09-20T23:58:39.693433",
     "exception": false,
     "start_time": "2025-09-20T23:58:39.675818",
     "status": "completed"
    },
    "tags": []
   },
   "outputs": [
    {
     "name": "stdout",
     "output_type": "stream",
     "text": [
      "0\n",
      "2\n",
      "4\n",
      "6\n",
      "8\n",
      "10\n",
      "12\n"
     ]
    }
   ],
   "source": [
    "# A custom iterator that generates even numbers indefinitely\n",
    "class EvenNumbers:\n",
    "    def __init__(self):\n",
    "        # Start counting from 0\n",
    "        self.num = 0\n",
    "\n",
    "    def __iter__(self):\n",
    "        # The iterator returns itself\n",
    "        return self\n",
    "\n",
    "    def __next__(self):\n",
    "        # Save the current number\n",
    "        x = self.num\n",
    "        # Increase by 2 to get the next even number\n",
    "        self.num += 2\n",
    "        # Return the current even number\n",
    "        return x\n",
    "\n",
    "\n",
    "# Demo: print the first 7 even numbers\n",
    "evens = EvenNumbers()\n",
    "for i, n in enumerate(evens):\n",
    "    if i == 7:   # Stop after 7 iterations\n",
    "        break\n",
    "    print(n)     # Output: 0, 2, 4, 6, 8, 10, 12\n"
   ]
  },
  {
   "cell_type": "markdown",
   "id": "9aa2a5d1",
   "metadata": {
    "papermill": {
     "duration": 0.009209,
     "end_time": "2025-09-20T23:58:39.712184",
     "exception": false,
     "start_time": "2025-09-20T23:58:39.702975",
     "status": "completed"
    },
    "tags": []
   },
   "source": [
    "---"
   ]
  },
  {
   "cell_type": "markdown",
   "id": "24335cc7",
   "metadata": {
    "papermill": {
     "duration": 0.008998,
     "end_time": "2025-09-20T23:58:39.730432",
     "exception": false,
     "start_time": "2025-09-20T23:58:39.721434",
     "status": "completed"
    },
    "tags": []
   },
   "source": [
    "**7**  Create a custom iterator FileLineReader that takes a filename and reads one line at a time.\n",
    "Implement __iter__() and __next__() so it can be used in a for loop.\n",
    "Test it by reading from a sample .txt file and printing each line.\n",
    "\n",
    " ***answer:***\n",
    "\n",
    " ```python\n",
    "class FileLineReader:\n",
    "    def __init__(self, filename):\n",
    "        self.file = open(filename, \"r\")\n",
    "\n",
    "    def __iter__(self):\n",
    "        return self\n",
    "\n",
    "    def __next__(self):\n",
    "        line = self.file.readline()\n",
    "        if line:\n",
    "            return line.strip()\n",
    "        else:\n",
    "            self.file.close()\n",
    "            raise StopIteration\n",
    "\n",
    "# Demo (reading from a sample .txt file and printing each line)\n",
    "reader = FileLineReader(\"sample.txt\")\n",
    "for line in reader:\n",
    "    print(line)\n",
    "\n",
    "```\n",
    "\n"
   ]
  },
  {
   "cell_type": "markdown",
   "id": "0807c1d9",
   "metadata": {
    "papermill": {
     "duration": 0.009055,
     "end_time": "2025-09-20T23:58:39.748660",
     "exception": false,
     "start_time": "2025-09-20T23:58:39.739605",
     "status": "completed"
    },
    "tags": []
   },
   "source": [
    "---"
   ]
  },
  {
   "cell_type": "markdown",
   "id": "cdeacf8c",
   "metadata": {
    "papermill": {
     "duration": 0.010194,
     "end_time": "2025-09-20T23:58:39.768036",
     "exception": false,
     "start_time": "2025-09-20T23:58:39.757842",
     "status": "completed"
    },
    "tags": []
   },
   "source": [
    "## Solve Task For - Course 4 Below\n"
   ]
  },
  {
   "cell_type": "markdown",
   "id": "6172b3f0",
   "metadata": {
    "papermill": {
     "duration": 0.009066,
     "end_time": "2025-09-20T23:58:39.786583",
     "exception": false,
     "start_time": "2025-09-20T23:58:39.777517",
     "status": "completed"
    },
    "tags": []
   },
   "source": [
    "**1**True or False. One object cannot have a method with the same name as another object's method.\n",
    "\n",
    "```python\n",
    " FALSE\n",
    "```\n",
    "\n",
    "---\n",
    "\n",
    "**2**True or False and why. Methods with the same name, but for different objects, can have different content, but the return value has to be of same data type.\n",
    "\n",
    "\n",
    "```python\n",
    " FALSE\n",
    "```\n",
    "\n",
    "---\n",
    "\n",
    "**3** Create two classes Car and Bicycle.\n",
    "Both should have a method move() that prints how they move (e.g., \"Car drives\" and \"Bicycle pedals\").\n",
    "Create a list containing objects of both classes and loop through it, calling move() for each."
   ]
  },
  {
   "cell_type": "code",
   "execution_count": 9,
   "id": "cbb3c7de",
   "metadata": {
    "execution": {
     "iopub.execute_input": "2025-09-20T23:58:39.807270Z",
     "iopub.status.busy": "2025-09-20T23:58:39.806642Z",
     "iopub.status.idle": "2025-09-20T23:58:39.812136Z",
     "shell.execute_reply": "2025-09-20T23:58:39.811259Z"
    },
    "papermill": {
     "duration": 0.017393,
     "end_time": "2025-09-20T23:58:39.813411",
     "exception": false,
     "start_time": "2025-09-20T23:58:39.796018",
     "status": "completed"
    },
    "tags": []
   },
   "outputs": [
    {
     "name": "stdout",
     "output_type": "stream",
     "text": [
      "Car drives!\n",
      "Bicycle pedals!\n"
     ]
    }
   ],
   "source": [
    "class Car:\n",
    "    def move(self):\n",
    "        print(\"Car drives!\")\n",
    "\n",
    "class Bicycle:\n",
    "    def move(self):\n",
    "        print(\"Bicycle pedals!\")\n",
    "\n",
    "# Create objects\n",
    "car = Car()\n",
    "bike = Bicycle()\n",
    "\n",
    "# Put them in a list\n",
    "vehicles = [car, bike]\n",
    "\n",
    "# Loop through and call move()\n",
    "for v in vehicles:\n",
    "    v.move()\n"
   ]
  },
  {
   "cell_type": "markdown",
   "id": "8d20e73d",
   "metadata": {
    "papermill": {
     "duration": 0.00947,
     "end_time": "2025-09-20T23:58:39.832488",
     "exception": false,
     "start_time": "2025-09-20T23:58:39.823018",
     "status": "completed"
    },
    "tags": []
   },
   "source": [
    "---\n",
    "**4** Create a base class Bird with a method speak() that prints \"Chirp\".\n",
    "Create subclasses Parrot and Crow that override speak() to print \"Squawk\" and \"Caw\" respectively.\n",
    "Create a function make_bird_speak() that accepts a Bird object and calls its speak() method.\n",
    "Test with Parrot and Crow."
   ]
  },
  {
   "cell_type": "code",
   "execution_count": 10,
   "id": "d7430f67",
   "metadata": {
    "execution": {
     "iopub.execute_input": "2025-09-20T23:58:39.852958Z",
     "iopub.status.busy": "2025-09-20T23:58:39.852255Z",
     "iopub.status.idle": "2025-09-20T23:58:39.858283Z",
     "shell.execute_reply": "2025-09-20T23:58:39.857409Z"
    },
    "papermill": {
     "duration": 0.017427,
     "end_time": "2025-09-20T23:58:39.859452",
     "exception": false,
     "start_time": "2025-09-20T23:58:39.842025",
     "status": "completed"
    },
    "tags": []
   },
   "outputs": [
    {
     "name": "stdout",
     "output_type": "stream",
     "text": [
      "Squawk\n",
      "Caw\n"
     ]
    }
   ],
   "source": [
    "class Bird:\n",
    "    def speak(self):\n",
    "        print(\"Chirp\")\n",
    "\n",
    "class Parrot(Bird):\n",
    "    def speak(self):\n",
    "        print(\"Squawk\")\n",
    "\n",
    "class Crow(Bird):\n",
    "    def speak(self):\n",
    "        print(\"Caw\")\n",
    "\n",
    "# Function that accepts any Bird\n",
    "def make_bird_speak(bird: Bird):\n",
    "    bird.speak()\n",
    "\n",
    "# Test\n",
    "parrot = Parrot()\n",
    "crow = Crow()\n",
    "\n",
    "make_bird_speak(parrot)  # Squawk\n",
    "make_bird_speak(crow)    # Caw\n"
   ]
  },
  {
   "cell_type": "markdown",
   "id": "faaeb2e5",
   "metadata": {
    "papermill": {
     "duration": 0.009363,
     "end_time": "2025-09-20T23:58:39.878597",
     "exception": false,
     "start_time": "2025-09-20T23:58:39.869234",
     "status": "completed"
    },
    "tags": []
   },
   "source": [
    "---\n",
    "**5** Use the built-in len() function with:\n",
    "a string\n",
    "a list\n",
    "a dictionary\n",
    "Print the results and explain why len() works with different data types."
   ]
  },
  {
   "cell_type": "code",
   "execution_count": 11,
   "id": "e4724f4f",
   "metadata": {
    "execution": {
     "iopub.execute_input": "2025-09-20T23:58:39.898837Z",
     "iopub.status.busy": "2025-09-20T23:58:39.898568Z",
     "iopub.status.idle": "2025-09-20T23:58:39.903073Z",
     "shell.execute_reply": "2025-09-20T23:58:39.902273Z"
    },
    "papermill": {
     "duration": 0.016262,
     "end_time": "2025-09-20T23:58:39.904396",
     "exception": false,
     "start_time": "2025-09-20T23:58:39.888134",
     "status": "completed"
    },
    "tags": []
   },
   "outputs": [
    {
     "name": "stdout",
     "output_type": "stream",
     "text": [
      "5\n",
      "3\n",
      "3\n"
     ]
    }
   ],
   "source": [
    "# String\n",
    "print(len(\"Hello\"))  \n",
    "\n",
    "# List\n",
    "print(len([10, 20, 30]))  \n",
    "\n",
    "# Dictionary\n",
    "print(len({\"a\": 1, \"b\": 2, \"c\": 3}))  \n"
   ]
  },
  {
   "cell_type": "markdown",
   "id": "1348222d",
   "metadata": {
    "papermill": {
     "duration": 0.009322,
     "end_time": "2025-09-20T23:58:39.923495",
     "exception": false,
     "start_time": "2025-09-20T23:58:39.914173",
     "status": "completed"
    },
    "tags": []
   },
   "source": [
    "---\n",
    "**6** Create an abstract class Shape with an abstract method area().\n",
    "Create subclasses Rectangle and Circle that implement the area() method.\n",
    "Create a list of different shapes and loop through them, printing their area without checking their type."
   ]
  },
  {
   "cell_type": "code",
   "execution_count": 12,
   "id": "98f857f8",
   "metadata": {
    "execution": {
     "iopub.execute_input": "2025-09-20T23:58:39.944126Z",
     "iopub.status.busy": "2025-09-20T23:58:39.943368Z",
     "iopub.status.idle": "2025-09-20T23:58:39.950286Z",
     "shell.execute_reply": "2025-09-20T23:58:39.949452Z"
    },
    "papermill": {
     "duration": 0.018662,
     "end_time": "2025-09-20T23:58:39.951637",
     "exception": false,
     "start_time": "2025-09-20T23:58:39.932975",
     "status": "completed"
    },
    "tags": []
   },
   "outputs": [
    {
     "name": "stdout",
     "output_type": "stream",
     "text": [
      "Area: 20\n",
      "Area: 28.274333882308138\n"
     ]
    }
   ],
   "source": [
    "from abc import ABC, abstractmethod\n",
    "import math\n",
    "\n",
    "# Abstract base class for all shapes\n",
    "class Shape(ABC):\n",
    "    @abstractmethod\n",
    "    def area(self):\n",
    "        # Every shape must implement its own area method\n",
    "        pass\n",
    "\n",
    "\n",
    "# Rectangle class inherits from Shape\n",
    "class Rectangle(Shape):\n",
    "    def __init__(self, width, height):\n",
    "        self.width = width\n",
    "        self.height = height\n",
    "\n",
    "    def area(self):\n",
    "        # Area of rectangle = width * height\n",
    "        return self.width * self.height\n",
    "\n",
    "\n",
    "# Circle class inherits from Shape\n",
    "class Circle(Shape):\n",
    "    def __init__(self, radius):\n",
    "        self.radius = radius\n",
    "\n",
    "    def area(self):\n",
    "        # Area of circle = π * r²\n",
    "        return math.pi * (self.radius ** 2)\n",
    "\n",
    "\n",
    "# Create a list of different shapes\n",
    "shapes = [Rectangle(4, 5), Circle(3)]\n",
    "\n",
    "# Polymorphism in action: each shape calls its own area() implementation\n",
    "for shape in shapes:\n",
    "    print(f\"Area: {shape.area()}\")\n",
    "\n"
   ]
  },
  {
   "cell_type": "markdown",
   "id": "8c6078e2",
   "metadata": {
    "papermill": {
     "duration": 0.00957,
     "end_time": "2025-09-20T23:58:39.971098",
     "exception": false,
     "start_time": "2025-09-20T23:58:39.961528",
     "status": "completed"
    },
    "tags": []
   },
   "source": [
    "---"
   ]
  },
  {
   "cell_type": "markdown",
   "id": "e483de34",
   "metadata": {
    "papermill": {
     "duration": 0.009521,
     "end_time": "2025-09-20T23:58:39.990284",
     "exception": false,
     "start_time": "2025-09-20T23:58:39.980763",
     "status": "completed"
    },
    "tags": []
   },
   "source": [
    "## Solve Task For - Course 5 Below\n"
   ]
  },
  {
   "cell_type": "markdown",
   "id": "451537f1",
   "metadata": {
    "papermill": {
     "duration": 0.009405,
     "end_time": "2025-09-20T23:58:40.009395",
     "exception": false,
     "start_time": "2025-09-20T23:58:39.999990",
     "status": "completed"
    },
    "tags": []
   },
   "source": [
    "**1** Consider the following code:\n",
    "\n",
    "```\n",
    "x = 300\n",
    "def myfunc():\n",
    "  x = 200\n",
    "myfunc()\n",
    "print(x)\n",
    "```\n",
    "\n",
    "What will be the printed result?\n",
    "\n",
    "```answer```\n",
    "\n",
    "```\n",
    "300\n",
    "```\n",
    "---\n",
    "\n",
    "**2** Consider the following code, what will ``x`` be:\n",
    "\n",
    "```\n",
    "x = 300\n",
    "def myfunc():\n",
    "  global x\n",
    "  x = 200\n",
    "myfunc()\n",
    "print(x)\n",
    "```\n",
    "\n",
    "```answer```\n",
    "\n",
    "```\n",
    "200\n",
    "```\n",
    "---\n",
    "\n",
    "**3** Which statement keyword can be used for variables inside nested function?\n",
    "\n",
    "Create a global variable count = 10.\n",
    "Inside a function increment(), create a local variable count and print its value.\n",
    "Call the function and then print the global count.\n",
    "Observe the difference.\n",
    "\n",
    "```answer```\n",
    "\n",
    "```\n",
    "nonlocal\n",
    "```\n"
   ]
  },
  {
   "cell_type": "code",
   "execution_count": 13,
   "id": "12b768eb",
   "metadata": {
    "execution": {
     "iopub.execute_input": "2025-09-20T23:58:40.030175Z",
     "iopub.status.busy": "2025-09-20T23:58:40.029511Z",
     "iopub.status.idle": "2025-09-20T23:58:40.034421Z",
     "shell.execute_reply": "2025-09-20T23:58:40.033492Z"
    },
    "papermill": {
     "duration": 0.016671,
     "end_time": "2025-09-20T23:58:40.035747",
     "exception": false,
     "start_time": "2025-09-20T23:58:40.019076",
     "status": "completed"
    },
    "tags": []
   },
   "outputs": [
    {
     "name": "stdout",
     "output_type": "stream",
     "text": [
      "Inside function, local count = 5\n",
      "Outside function, global count = 10\n"
     ]
    }
   ],
   "source": [
    "count = 10 # global variable\n",
    "\n",
    "def increment():\n",
    "    count = 5   # local variable \n",
    "    print(\"Inside function, local count =\", count)\n",
    "\n",
    "# call the function\n",
    "increment()\n",
    "\n",
    "# print the global variable\n",
    "print(\"Outside function, global count =\", count)\n"
   ]
  },
  {
   "cell_type": "markdown",
   "id": "e8a91459",
   "metadata": {
    "papermill": {
     "duration": 0.009601,
     "end_time": "2025-09-20T23:58:40.055518",
     "exception": false,
     "start_time": "2025-09-20T23:58:40.045917",
     "status": "completed"
    },
    "tags": []
   },
   "source": [
    "---\n",
    "\n",
    "**4** Create a global variable total = 0.\n",
    "Inside a function add_to_total(n), use the global keyword to modify total by adding n.\n",
    "Call the function multiple times and print the updated value of total."
   ]
  },
  {
   "cell_type": "code",
   "execution_count": 14,
   "id": "52e5adfc",
   "metadata": {
    "execution": {
     "iopub.execute_input": "2025-09-20T23:58:40.076613Z",
     "iopub.status.busy": "2025-09-20T23:58:40.075798Z",
     "iopub.status.idle": "2025-09-20T23:58:40.081217Z",
     "shell.execute_reply": "2025-09-20T23:58:40.080346Z"
    },
    "papermill": {
     "duration": 0.017499,
     "end_time": "2025-09-20T23:58:40.082818",
     "exception": false,
     "start_time": "2025-09-20T23:58:40.065319",
     "status": "completed"
    },
    "tags": []
   },
   "outputs": [
    {
     "name": "stdout",
     "output_type": "stream",
     "text": [
      "Inside function, total = 5\n",
      "Inside function, total = 15\n",
      "Inside function, total = 35\n",
      "Final total = 35\n"
     ]
    }
   ],
   "source": [
    "# create a global variable\n",
    "total = 0\n",
    "\n",
    "def add_to_total(n):\n",
    "    global total   # tell Python we want to use the global 'total'\n",
    "    total += n     # update it by adding n\n",
    "    print(\"Inside function, total =\", total)\n",
    "\n",
    "# call the function multiple times\n",
    "add_to_total(5)\n",
    "add_to_total(10)\n",
    "add_to_total(20)\n",
    "\n",
    "# print the final global total\n",
    "print(\"Final total =\", total)\n",
    "\n"
   ]
  },
  {
   "cell_type": "markdown",
   "id": "54d171fb",
   "metadata": {
    "papermill": {
     "duration": 0.009687,
     "end_time": "2025-09-20T23:58:40.102711",
     "exception": false,
     "start_time": "2025-09-20T23:58:40.093024",
     "status": "completed"
    },
    "tags": []
   },
   "source": [
    "---\n",
    "**5** Create a function outer() with a variable message = \"Hi\".\n",
    "Inside outer(), create a nested function inner() that modifies message using the nonlocal keyword.\n",
    "Call inner() from inside outer() and print the updated message.\n"
   ]
  },
  {
   "cell_type": "code",
   "execution_count": 15,
   "id": "f097122f",
   "metadata": {
    "execution": {
     "iopub.execute_input": "2025-09-20T23:58:40.123619Z",
     "iopub.status.busy": "2025-09-20T23:58:40.123332Z",
     "iopub.status.idle": "2025-09-20T23:58:40.128383Z",
     "shell.execute_reply": "2025-09-20T23:58:40.127541Z"
    },
    "papermill": {
     "duration": 0.017046,
     "end_time": "2025-09-20T23:58:40.129665",
     "exception": false,
     "start_time": "2025-09-20T23:58:40.112619",
     "status": "completed"
    },
    "tags": []
   },
   "outputs": [
    {
     "name": "stdout",
     "output_type": "stream",
     "text": [
      "Updated message = Hello\n"
     ]
    }
   ],
   "source": [
    "def outer():\n",
    "    message = \"Hi\"   # variable in the outer function\n",
    "\n",
    "    def inner():\n",
    "        nonlocal message   # tell Python: use outer 'message'\n",
    "        message = \"Hello\"  # modify it\n",
    "\n",
    "    inner()   # call the nested function\n",
    "    print(\"Updated message =\", message)\n",
    "\n",
    "outer()\n"
   ]
  },
  {
   "cell_type": "markdown",
   "id": "629e49da",
   "metadata": {
    "papermill": {
     "duration": 0.009659,
     "end_time": "2025-09-20T23:58:40.149229",
     "exception": false,
     "start_time": "2025-09-20T23:58:40.139570",
     "status": "completed"
    },
    "tags": []
   },
   "source": [
    "---\n",
    "**6** Write a function show_len_behavior() that:\n",
    "Calls the built-in len() function on a list.\n",
    "Then creates a local variable named len with a value of 100.\n",
    "Tries to call len() again and observes the error.\n",
    "Explain what happened and how it relates to built-in scope.\n",
    "\n",
    "***soolution***\n",
    "\n",
    "```\n",
    "def show_len_behavior():\n",
    "    nums = [1, 2, 3]\n",
    "    print(len(nums))   # works, built-in len() is used\n",
    "    len = 100          # local variable created\n",
    "    print(len(nums))   # error: int object is not callable\n",
    "\n",
    "show_len_behavior()\n",
    "\n",
    "```\n",
    "\n",
    " ***explanation***\n",
    "\n",
    " ````\n",
    " At first, Python uses the built-in scope for len() so it works.\n",
    "Then len = 100 creates a local variable (local scope).\n",
    "This shadows the built-in function, so the next len(nums) tries to call an integer → error.\n",
    "\n",
    "Lesson: local scope can override global or built-in names. That’s why reusing names like len, list, or str is dangerous.****\n",
    " ````\n",
    "\n",
    "---"
   ]
  },
  {
   "cell_type": "markdown",
   "id": "b94961a9",
   "metadata": {
    "papermill": {
     "duration": 0.00955,
     "end_time": "2025-09-20T23:58:40.168479",
     "exception": false,
     "start_time": "2025-09-20T23:58:40.158929",
     "status": "completed"
    },
    "tags": []
   },
   "source": [
    "## Assignment & Assessment\n"
   ]
  },
  {
   "cell_type": "markdown",
   "id": "26deb743",
   "metadata": {
    "papermill": {
     "duration": 0.009463,
     "end_time": "2025-09-20T23:58:40.187822",
     "exception": false,
     "start_time": "2025-09-20T23:58:40.178359",
     "status": "completed"
    },
    "tags": []
   },
   "source": [
    "Create a `Car` class with attributes `brand` and `model`. Instantiate two objects and print their details."
   ]
  },
  {
   "cell_type": "code",
   "execution_count": 16,
   "id": "f78381d8",
   "metadata": {
    "execution": {
     "iopub.execute_input": "2025-09-20T23:58:40.208833Z",
     "iopub.status.busy": "2025-09-20T23:58:40.208071Z",
     "iopub.status.idle": "2025-09-20T23:58:40.213586Z",
     "shell.execute_reply": "2025-09-20T23:58:40.212841Z"
    },
    "papermill": {
     "duration": 0.017242,
     "end_time": "2025-09-20T23:58:40.214808",
     "exception": false,
     "start_time": "2025-09-20T23:58:40.197566",
     "status": "completed"
    },
    "tags": []
   },
   "outputs": [
    {
     "name": "stdout",
     "output_type": "stream",
     "text": [
      "Toyota Corolla\n",
      "Audi A4\n"
     ]
    }
   ],
   "source": [
    "class Car:\n",
    "    def __init__(self, brand, model):\n",
    "        self.brand = brand\n",
    "        self.model = model\n",
    "\n",
    "# create two objects\n",
    "car1 = Car(\"Toyota\", \"Corolla\")\n",
    "car2 = Car(\"Audi\", \"A4\")\n",
    "\n",
    "# print their details\n",
    "print(car1.brand, car1.model)\n",
    "print(car2.brand, car2.model)\n"
   ]
  },
  {
   "cell_type": "markdown",
   "id": "0bbd898e",
   "metadata": {
    "papermill": {
     "duration": 0.009556,
     "end_time": "2025-09-20T23:58:40.234396",
     "exception": false,
     "start_time": "2025-09-20T23:58:40.224840",
     "status": "completed"
    },
    "tags": []
   },
   "source": [
    "Create a `Counter` class with a class variable to track total instances created. Print the count after making several objects."
   ]
  },
  {
   "cell_type": "code",
   "execution_count": 17,
   "id": "49f3aa72",
   "metadata": {
    "execution": {
     "iopub.execute_input": "2025-09-20T23:58:40.255092Z",
     "iopub.status.busy": "2025-09-20T23:58:40.254819Z",
     "iopub.status.idle": "2025-09-20T23:58:40.259892Z",
     "shell.execute_reply": "2025-09-20T23:58:40.258978Z"
    },
    "papermill": {
     "duration": 0.017007,
     "end_time": "2025-09-20T23:58:40.261182",
     "exception": false,
     "start_time": "2025-09-20T23:58:40.244175",
     "status": "completed"
    },
    "tags": []
   },
   "outputs": [
    {
     "name": "stdout",
     "output_type": "stream",
     "text": [
      "Total instances created: 3\n"
     ]
    }
   ],
   "source": [
    "class Counter:\n",
    "    count = 0\n",
    "\n",
    "    def __init__(self):\n",
    "        Counter.count += 1   # increase count whenever a new object is made\n",
    "\n",
    "# create several objects\n",
    "c1 = Counter()\n",
    "c2 = Counter()\n",
    "c3 = Counter()\n",
    "\n",
    "# print the total count of instances\n",
    "print(\"Total instances created:\", Counter.count)\n"
   ]
  },
  {
   "cell_type": "markdown",
   "id": "be2d193a",
   "metadata": {
    "papermill": {
     "duration": 0.009834,
     "end_time": "2025-09-20T23:58:40.280984",
     "exception": false,
     "start_time": "2025-09-20T23:58:40.271150",
     "status": "completed"
    },
    "tags": []
   },
   "source": [
    "Create a parent class `Animal` with a method `speak()`. Create a child class `Dog` that overrides `speak()` to print `\"Woof!\"`"
   ]
  },
  {
   "cell_type": "code",
   "execution_count": 18,
   "id": "510878d7",
   "metadata": {
    "execution": {
     "iopub.execute_input": "2025-09-20T23:58:40.301985Z",
     "iopub.status.busy": "2025-09-20T23:58:40.301692Z",
     "iopub.status.idle": "2025-09-20T23:58:40.307014Z",
     "shell.execute_reply": "2025-09-20T23:58:40.306171Z"
    },
    "papermill": {
     "duration": 0.017513,
     "end_time": "2025-09-20T23:58:40.308402",
     "exception": false,
     "start_time": "2025-09-20T23:58:40.290889",
     "status": "completed"
    },
    "tags": []
   },
   "outputs": [
    {
     "name": "stdout",
     "output_type": "stream",
     "text": [
      "This animal makes a sound\n",
      "Woof!\n"
     ]
    }
   ],
   "source": [
    "class Animal:\n",
    "    def speak(self):\n",
    "        print(\"This animal makes a sound\")\n",
    "\n",
    "# Child class\n",
    "class Dog(Animal):\n",
    "    def speak(self):   # overriding parent method\n",
    "        print(\"Woof!\")\n",
    "\n",
    "# create objects\n",
    "a = Animal()\n",
    "a.speak()   # uses parent method\n",
    "\n",
    "d = Dog()\n",
    "d.speak()   \n"
   ]
  },
  {
   "cell_type": "markdown",
   "id": "18d3388d",
   "metadata": {
    "papermill": {
     "duration": 0.009864,
     "end_time": "2025-09-20T23:58:40.328447",
     "exception": false,
     "start_time": "2025-09-20T23:58:40.318583",
     "status": "completed"
    },
    "tags": []
   },
   "source": [
    "Create three classes: `LivingBeing`, `Animal`, and `Bird` where:  \n",
    "  \n",
    "- `LivingBeing` has `is_alive = True`.  \n",
    "- `Animal` inherits from `LivingBeing`.  \n",
    "- `Bird` inherits from `Animal` and has a `fly()` method.  \n",
    "  \n",
    "Instantiate `Bird` and demonstrate inherited attributes/methods.  "
   ]
  },
  {
   "cell_type": "code",
   "execution_count": 19,
   "id": "1e44b473",
   "metadata": {
    "execution": {
     "iopub.execute_input": "2025-09-20T23:58:40.350001Z",
     "iopub.status.busy": "2025-09-20T23:58:40.349425Z",
     "iopub.status.idle": "2025-09-20T23:58:40.355691Z",
     "shell.execute_reply": "2025-09-20T23:58:40.354810Z"
    },
    "papermill": {
     "duration": 0.018472,
     "end_time": "2025-09-20T23:58:40.356960",
     "exception": false,
     "start_time": "2025-09-20T23:58:40.338488",
     "status": "completed"
    },
    "tags": []
   },
   "outputs": [
    {
     "name": "stdout",
     "output_type": "stream",
     "text": [
      "Is alive? True\n",
      "Name: Parrot\n",
      "Parrot is flying!\n"
     ]
    }
   ],
   "source": [
    "# Base class\n",
    "class LivingBeing:\n",
    "    def __init__(self):\n",
    "        self.is_alive = True\n",
    "\n",
    "# Animal inherits from LivingBeing\n",
    "class Animal(LivingBeing):\n",
    "    def __init__(self, name):\n",
    "        super().__init__()  # inherit is_alive\n",
    "        self.name = name\n",
    "\n",
    "# Bird inherits from Animal\n",
    "class Bird(Animal):\n",
    "    def __init__(self, name):\n",
    "        super().__init__(name)\n",
    "\n",
    "    def fly(self):\n",
    "        print(f\"{self.name} is flying!\")\n",
    "\n",
    "# create a Bird object\n",
    "b = Bird(\"Parrot\")\n",
    "\n",
    "# demonstrate inherited attributes and methods\n",
    "print(\"Is alive?\", b.is_alive)  # inherited from LivingBeing\n",
    "print(\"Name:\", b.name)          # inherited from Animal\n",
    "b.fly()                         # Bird’s own method\n"
   ]
  },
  {
   "cell_type": "markdown",
   "id": "116187e9",
   "metadata": {
    "papermill": {
     "duration": 0.010161,
     "end_time": "2025-09-20T23:58:40.377410",
     "exception": false,
     "start_time": "2025-09-20T23:58:40.367249",
     "status": "completed"
    },
    "tags": []
   },
   "source": [
    "Create an iterator class `EvenNumbers` that takes a limit and iterates over even numbers only. Use it in a `for` loop."
   ]
  },
  {
   "cell_type": "code",
   "execution_count": 20,
   "id": "167143e5",
   "metadata": {
    "execution": {
     "iopub.execute_input": "2025-09-20T23:58:40.398670Z",
     "iopub.status.busy": "2025-09-20T23:58:40.398413Z",
     "iopub.status.idle": "2025-09-20T23:58:40.404222Z",
     "shell.execute_reply": "2025-09-20T23:58:40.403284Z"
    },
    "papermill": {
     "duration": 0.018111,
     "end_time": "2025-09-20T23:58:40.405628",
     "exception": false,
     "start_time": "2025-09-20T23:58:40.387517",
     "status": "completed"
    },
    "tags": []
   },
   "outputs": [
    {
     "name": "stdout",
     "output_type": "stream",
     "text": [
      "2\n",
      "4\n",
      "6\n",
      "8\n",
      "10\n"
     ]
    }
   ],
   "source": [
    "class EvenNumbers:\n",
    "    def __init__(self, limit):\n",
    "        self.limit = limit\n",
    "        self.num = 0\n",
    "\n",
    "    def __iter__(self):\n",
    "        return self\n",
    "\n",
    "    def __next__(self):\n",
    "        self.num += 2\n",
    "        if self.num <= self.limit:\n",
    "            return self.num\n",
    "        else:\n",
    "            raise StopIteration\n",
    "\n",
    "# use in a loop\n",
    "for n in EvenNumbers(10):\n",
    "    print(n)\n"
   ]
  },
  {
   "cell_type": "markdown",
   "id": "6df12242",
   "metadata": {
    "papermill": {
     "duration": 0.009823,
     "end_time": "2025-09-20T23:58:40.425734",
     "exception": false,
     "start_time": "2025-09-20T23:58:40.415911",
     "status": "completed"
    },
    "tags": []
   },
   "source": [
    "Create `Cat` and `Dog` classes, each with a `sound()` method returning `\"Meow\"` or `\"Woof\"`.  \n",
    "Write a function `animal_sound(animal)` that calls `.sound()` without knowing the class type.  "
   ]
  },
  {
   "cell_type": "code",
   "execution_count": 21,
   "id": "ec3bd487",
   "metadata": {
    "execution": {
     "iopub.execute_input": "2025-09-20T23:58:40.447200Z",
     "iopub.status.busy": "2025-09-20T23:58:40.446504Z",
     "iopub.status.idle": "2025-09-20T23:58:40.452023Z",
     "shell.execute_reply": "2025-09-20T23:58:40.451123Z"
    },
    "papermill": {
     "duration": 0.017775,
     "end_time": "2025-09-20T23:58:40.453428",
     "exception": false,
     "start_time": "2025-09-20T23:58:40.435653",
     "status": "completed"
    },
    "tags": []
   },
   "outputs": [
    {
     "name": "stdout",
     "output_type": "stream",
     "text": [
      "Meow\n",
      "Woof\n"
     ]
    }
   ],
   "source": [
    "class Cat:\n",
    "    def sound(self):\n",
    "        return \"Meow\"\n",
    "\n",
    "class Dog:\n",
    "    def sound(self):\n",
    "        return \"Woof\"\n",
    "\n",
    "def animal_sound(animal):\n",
    "    print(animal.sound())\n",
    "\n",
    "\n",
    "animal_sound(Cat())\n",
    "animal_sound(Dog())\n"
   ]
  },
  {
   "cell_type": "markdown",
   "id": "ab213533",
   "metadata": {
    "papermill": {
     "duration": 0.009813,
     "end_time": "2025-09-20T23:58:40.473568",
     "exception": false,
     "start_time": "2025-09-20T23:58:40.463755",
     "status": "completed"
    },
    "tags": []
   },
   "source": [
    "Write a program demonstrating:\n",
    "\n",
    "- a global variable modified inside a function\n",
    "\n",
    "- a nonlocal variable modified inside a nested function.\n"
   ]
  },
  {
   "cell_type": "code",
   "execution_count": 22,
   "id": "b0354dcd",
   "metadata": {
    "execution": {
     "iopub.execute_input": "2025-09-20T23:58:40.494635Z",
     "iopub.status.busy": "2025-09-20T23:58:40.494361Z",
     "iopub.status.idle": "2025-09-20T23:58:40.499940Z",
     "shell.execute_reply": "2025-09-20T23:58:40.499130Z"
    },
    "papermill": {
     "duration": 0.017724,
     "end_time": "2025-09-20T23:58:40.501295",
     "exception": false,
     "start_time": "2025-09-20T23:58:40.483571",
     "status": "completed"
    },
    "tags": []
   },
   "outputs": [
    {
     "name": "stdout",
     "output_type": "stream",
     "text": [
      "Inside function (global modified): 5\n",
      "Outside function (global): 5\n",
      "After inner modifies: Hello\n"
     ]
    }
   ],
   "source": [
    "# Global variable\n",
    "count = 0\n",
    "\n",
    "def modify_global():\n",
    "    global count\n",
    "    count += 5\n",
    "    print(\"Inside function (global modified):\", count)\n",
    "\n",
    "modify_global()\n",
    "print(\"Outside function (global):\", count)\n",
    "\n",
    "# Nonlocal variable\n",
    "def outer():\n",
    "    msg = \"Hi\"\n",
    "    def inner():\n",
    "        nonlocal msg\n",
    "        msg = \"Hello\"\n",
    "    inner()\n",
    "    print(\"After inner modifies:\", msg)\n",
    "\n",
    "outer()\n"
   ]
  },
  {
   "cell_type": "markdown",
   "id": "65fa5d61",
   "metadata": {
    "papermill": {
     "duration": 0.009953,
     "end_time": "2025-09-20T23:58:40.521480",
     "exception": false,
     "start_time": "2025-09-20T23:58:40.511527",
     "status": "completed"
    },
    "tags": []
   },
   "source": [
    "Create two classes: `Flyer` (method `move()` returns `\"Flying\"`) and `Swimmer` (method `move()` returns `\"Swimming\"`).  \n",
    "Create a class `Duck` inheriting from both.  \n",
    "- Use `super()` to decide which `move()` executes.  \n",
    "- Explain the **Method Resolution Order (MRO)**.  "
   ]
  },
  {
   "cell_type": "code",
   "execution_count": 23,
   "id": "ad84afd7",
   "metadata": {
    "execution": {
     "iopub.execute_input": "2025-09-20T23:58:40.542867Z",
     "iopub.status.busy": "2025-09-20T23:58:40.542588Z",
     "iopub.status.idle": "2025-09-20T23:58:40.548582Z",
     "shell.execute_reply": "2025-09-20T23:58:40.547628Z"
    },
    "papermill": {
     "duration": 0.018268,
     "end_time": "2025-09-20T23:58:40.549919",
     "exception": false,
     "start_time": "2025-09-20T23:58:40.531651",
     "status": "completed"
    },
    "tags": []
   },
   "outputs": [
    {
     "name": "stdout",
     "output_type": "stream",
     "text": [
      "Flying\n",
      "(<class '__main__.Duck'>, <class '__main__.Flyer'>, <class '__main__.Swimmer'>, <class 'object'>)\n"
     ]
    }
   ],
   "source": [
    "class Flyer:\n",
    "    def move(self):\n",
    "        return \"Flying\"\n",
    "\n",
    "class Swimmer:\n",
    "    def move(self):\n",
    "        return \"Swimming\"\n",
    "\n",
    "class Duck(Flyer, Swimmer):\n",
    "    def move(self):\n",
    "        return super().move()\n",
    "\n",
    "d = Duck()\n",
    "print(d.move())  # uses Flyer first\n",
    "\n",
    "# MRO explanation\n",
    "print(Duck.__mro__)\n"
   ]
  },
  {
   "cell_type": "markdown",
   "id": "60917a9e",
   "metadata": {
    "papermill": {
     "duration": 0.01005,
     "end_time": "2025-09-20T23:58:40.570865",
     "exception": false,
     "start_time": "2025-09-20T23:58:40.560815",
     "status": "completed"
    },
    "tags": []
   },
   "source": [
    "Create a class `Fibonacci` that generates Fibonacci numbers up to a given `n` using an iterator protocol."
   ]
  },
  {
   "cell_type": "code",
   "execution_count": 24,
   "id": "ad1b8680",
   "metadata": {
    "execution": {
     "iopub.execute_input": "2025-09-20T23:58:40.592899Z",
     "iopub.status.busy": "2025-09-20T23:58:40.592351Z",
     "iopub.status.idle": "2025-09-20T23:58:40.597929Z",
     "shell.execute_reply": "2025-09-20T23:58:40.597156Z"
    },
    "papermill": {
     "duration": 0.018159,
     "end_time": "2025-09-20T23:58:40.599358",
     "exception": false,
     "start_time": "2025-09-20T23:58:40.581199",
     "status": "completed"
    },
    "tags": []
   },
   "outputs": [
    {
     "name": "stdout",
     "output_type": "stream",
     "text": [
      "0\n",
      "1\n",
      "1\n",
      "2\n",
      "3\n",
      "5\n",
      "8\n"
     ]
    }
   ],
   "source": [
    "class Fibonacci:\n",
    "    def __init__(self, n):\n",
    "        self.n = n\n",
    "        self.a, self.b = 0, 1\n",
    "        self.count = 0\n",
    "\n",
    "    def __iter__(self):\n",
    "        return self\n",
    "\n",
    "    def __next__(self):\n",
    "        if self.count < self.n:\n",
    "            val = self.a\n",
    "            self.a, self.b = self.b, self.a + self.b\n",
    "            self.count += 1\n",
    "            return val\n",
    "        else:\n",
    "            raise StopIteration\n",
    "\n",
    "# demo\n",
    "for num in Fibonacci(7):\n",
    "    print(num)\n"
   ]
  },
  {
   "cell_type": "markdown",
   "id": "72e7b95d",
   "metadata": {
    "papermill": {
     "duration": 0.010109,
     "end_time": "2025-09-20T23:58:40.619824",
     "exception": false,
     "start_time": "2025-09-20T23:58:40.609715",
     "status": "completed"
    },
    "tags": []
   },
   "source": [
    "Create classes `Rectangle`, `Circle`, and `Triangle`, each with an `area()` method.  \n",
    "- Store instances of these classes in a list.  \n",
    "- Write code that calculates the total area without checking object types.  "
   ]
  },
  {
   "cell_type": "code",
   "execution_count": 25,
   "id": "63121ceb",
   "metadata": {
    "execution": {
     "iopub.execute_input": "2025-09-20T23:58:40.641895Z",
     "iopub.status.busy": "2025-09-20T23:58:40.641093Z",
     "iopub.status.idle": "2025-09-20T23:58:40.647857Z",
     "shell.execute_reply": "2025-09-20T23:58:40.647072Z"
    },
    "papermill": {
     "duration": 0.019137,
     "end_time": "2025-09-20T23:58:40.649214",
     "exception": false,
     "start_time": "2025-09-20T23:58:40.630077",
     "status": "completed"
    },
    "tags": []
   },
   "outputs": [
    {
     "name": "stdout",
     "output_type": "stream",
     "text": [
      "Total area: 96.53981633974483\n"
     ]
    }
   ],
   "source": [
    "import math\n",
    "\n",
    "class Rectangle:\n",
    "    def __init__(self, w, h):\n",
    "        self.w, self.h = w, h\n",
    "    def area(self):\n",
    "        return self.w * self.h\n",
    "\n",
    "class Circle:\n",
    "    def __init__(self, r):\n",
    "        self.r = r\n",
    "    def area(self):\n",
    "        return math.pi * self.r ** 2\n",
    "\n",
    "class Triangle:\n",
    "    def __init__(self, b, h):\n",
    "        self.b, self.h = b, h\n",
    "    def area(self):\n",
    "        return 0.5 * self.b * self.h\n",
    "\n",
    "shapes = [Rectangle(3, 4), Circle(5), Triangle(6, 2)]\n",
    "total_area = sum(shape.area() for shape in shapes)\n",
    "print(\"Total area:\", total_area)\n"
   ]
  },
  {
   "cell_type": "markdown",
   "id": "16f3acb0",
   "metadata": {
    "papermill": {
     "duration": 0.010009,
     "end_time": "2025-09-20T23:58:40.669645",
     "exception": false,
     "start_time": "2025-09-20T23:58:40.659636",
     "status": "completed"
    },
    "tags": []
   },
   "source": [
    "# Library Management System  \n",
    "  \n",
    "## Scenario  \n",
    "You are building a small library system to manage books, members, and borrowing operations. The system should support multiple types of books, track borrowed books, and allow iteration over members and books. The system should also demonstrate proper use of scopes and encapsulation.  \n",
    "  \n",
    "## Requirements and Concepts to Cover  \n",
    "  \n",
    "### 1. OOP & Inheritance  \n",
    "- Create a base class `Book` with attributes: `title`, `author`, `year`.  \n",
    "- Create subclasses:  \n",
    "  - `EBook` with `file_size` and `format`.  \n",
    "  - `PrintedBook` with `weight` and `dimensions`.  \n",
    "- Create a base class `Member` with `name` and `member_id`.  \n",
    "- Create subclasses:  \n",
    "  - `StudentMember` with `grade_level`.  \n",
    "  - `TeacherMember` with `department`.  \n",
    "  \n",
    "### 2. Polymorphism  \n",
    "- Define a method `get_description()` in `Book` and override it in both `EBook` and `PrintedBook`.  \n",
    "- Define a method `borrow_book()` in `Member` that behaves differently for `StudentMember` and `TeacherMember` (e.g., different borrowing limits).  \n",
    "  \n",
    "### 3. Iterators  \n",
    "- Implement an iterator for the `Library` class to iterate over all books.  \n",
    "- Implement an iterator for the `Member` class to iterate over borrowed books.  \n",
    "  \n",
    "### 4. Scope  \n",
    "- Use private and protected attributes to demonstrate scope:  \n",
    "  - `_borrowed_books` in `Member` (protected).  \n",
    "  - `__library_name` in `Library` (private).  \n",
    "- Provide getter and setter methods where appropriate to access private/protected attributes.  \n",
    "  \n",
    "### 5. Extra Features  \n",
    "- Track which books are available and which are borrowed.  \n",
    "- Allow searching books by title or author.  \n",
    "- Count the total number of books borrowed by all members (use a class-level variable).  "
   ]
  },
  {
   "cell_type": "code",
   "execution_count": 26,
   "id": "c335d957",
   "metadata": {
    "execution": {
     "iopub.execute_input": "2025-09-20T23:58:40.691668Z",
     "iopub.status.busy": "2025-09-20T23:58:40.691286Z",
     "iopub.status.idle": "2025-09-20T23:58:40.705387Z",
     "shell.execute_reply": "2025-09-20T23:58:40.704476Z"
    },
    "papermill": {
     "duration": 0.026829,
     "end_time": "2025-09-20T23:58:40.706731",
     "exception": false,
     "start_time": "2025-09-20T23:58:40.679902",
     "status": "completed"
    },
    "tags": []
   },
   "outputs": [
    {
     "name": "stdout",
     "output_type": "stream",
     "text": [
      "Zee borrowed AI 101\n",
      "Zee borrowed Ethics\n",
      "Books borrowed: ['AI 101', 'Ethics']\n",
      "Total borrowed: 2\n",
      "Library: City Library\n"
     ]
    }
   ],
   "source": [
    "# Base Book class\n",
    "class Book:\n",
    "    total_borrowed = 0  # class-level variable shared across all Book instances\n",
    "\n",
    "    def __init__(self, title, author, year):\n",
    "        # Initialize book details\n",
    "        self.title = title\n",
    "        self.author = author\n",
    "        self.year = year\n",
    "        self.available = True  # track if the book can be borrowed\n",
    "\n",
    "    def get_description(self):\n",
    "        # Return a string description of the book\n",
    "        return f\"{self.title} by {self.author} ({self.year})\"\n",
    "\n",
    "\n",
    "# Subclass for EBooks\n",
    "class EBook(Book):\n",
    "    def __init__(self, title, author, year, file_size, fmt):\n",
    "        super().__init__(title, author, year)\n",
    "        self.file_size = file_size  # size in MB\n",
    "        self.format = fmt           # e.g., PDF, EPUB\n",
    "\n",
    "    def get_description(self):\n",
    "        # Extend base description with EBook details\n",
    "        return super().get_description() + f\" [EBook: {self.format}, {self.file_size}MB]\"\n",
    "\n",
    "\n",
    "# Subclass for Printed Books\n",
    "class PrintedBook(Book):\n",
    "    def __init__(self, title, author, year, weight, dimensions):\n",
    "        super().__init__(title, author, year)\n",
    "        self.weight = weight        # weight in kg\n",
    "        self.dimensions = dimensions  # e.g., \"20x15cm\"\n",
    "\n",
    "    def get_description(self):\n",
    "        # Extend base description with printed book details\n",
    "        return super().get_description() + f\" [Printed: {self.weight}kg, {self.dimensions}]\"\n",
    "\n",
    "\n",
    "# Base Member class\n",
    "class Member:\n",
    "    def __init__(self, name, member_id):\n",
    "        self.name = name\n",
    "        self.member_id = member_id\n",
    "        self._borrowed_books = []  # list of borrowed books\n",
    "\n",
    "    def borrow_book(self, book):\n",
    "        # Allow borrowing if book is available\n",
    "        if book.available:\n",
    "            self._borrowed_books.append(book)\n",
    "            book.available = False\n",
    "            Book.total_borrowed += 1  # update class-level count\n",
    "            return f\"{self.name} borrowed {book.title}\"\n",
    "        return f\"{book.title} is not available\"\n",
    "\n",
    "    def __iter__(self):\n",
    "        # Make Member iterable over their borrowed books\n",
    "        return iter(self._borrowed_books)\n",
    "\n",
    "\n",
    "# Student member with borrowing limit of 3\n",
    "class StudentMember(Member):\n",
    "    def borrow_book(self, book):\n",
    "        if len(self._borrowed_books) < 3:\n",
    "            return super().borrow_book(book)\n",
    "        return \"Borrowing limit reached for student\"\n",
    "\n",
    "\n",
    "# Teacher member with borrowing limit of 5\n",
    "class TeacherMember(Member):\n",
    "    def borrow_book(self, book):\n",
    "        if len(self._borrowed_books) < 5:\n",
    "            return super().borrow_book(book)\n",
    "        return \"Borrowing limit reached for teacher\"\n",
    "\n",
    "\n",
    "# Library class\n",
    "class Library:\n",
    "    def __init__(self, name):\n",
    "        self.__library_name = name  # private attribute\n",
    "        self.books = []             # collection of books\n",
    "\n",
    "    def add_book(self, book):\n",
    "        self.books.append(book)     # add a book to the library\n",
    "\n",
    "    def search_by_title(self, title):\n",
    "        # Return list of descriptions for matching titles\n",
    "        return [b.get_description() for b in self.books if b.title == title]\n",
    "\n",
    "    def __iter__(self):\n",
    "        # Make Library iterable over its books\n",
    "        return iter(self.books)\n",
    "\n",
    "    def get_name(self):\n",
    "        return self.__library_name  # getter for private library name\n",
    "\n",
    "\n",
    "# Demo\n",
    "lib = Library(\"City Library\")  # Create a library\n",
    "\n",
    "# Create books\n",
    "b1 = EBook(\"AI 101\", \"Angelic\", 2025, 5, \"PDF\")\n",
    "b2 = PrintedBook(\"Ethics\", \"Heaven\", 2024, 1.2, \"20x15cm\")\n",
    "\n",
    "# Add books to library\n",
    "lib.add_book(b1)\n",
    "lib.add_book(b2)\n",
    "\n",
    "# Create a student member\n",
    "m1 = StudentMember(\"Zee\", \"S001\")\n",
    "\n",
    "# Borrow books\n",
    "print(m1.borrow_book(b1))  # Borrow EBook\n",
    "print(m1.borrow_book(b2))  # Borrow PrintedBook\n",
    "\n",
    "# Display borrowed books\n",
    "print(\"Books borrowed:\", [b.title for b in m1])\n",
    "\n",
    "# Display total borrowed across all books\n",
    "print(\"Total borrowed:\", Book.total_borrowed)\n",
    "\n",
    "# Display library name\n",
    "print(\"Library:\", lib.get_name())\n"
   ]
  },
  {
   "cell_type": "markdown",
   "id": "2434d123",
   "metadata": {
    "papermill": {
     "duration": 0.010002,
     "end_time": "2025-09-20T23:58:40.727288",
     "exception": false,
     "start_time": "2025-09-20T23:58:40.717286",
     "status": "completed"
    },
    "tags": []
   },
   "source": [
    "### !!! Watch this video **https://www.youtube.com/watch?v=kQDxmjfkIKY** and share your learning in your own understanding and words in the **Weekly-class** channel"
   ]
  },
  {
   "cell_type": "markdown",
   "id": "024b4b64",
   "metadata": {
    "papermill": {
     "duration": 0.010084,
     "end_time": "2025-09-20T23:58:40.747585",
     "exception": false,
     "start_time": "2025-09-20T23:58:40.737501",
     "status": "completed"
    },
    "tags": []
   },
   "source": [
    "# publication [here ](https://nerdyalgorithm.hashnode.dev/week-2-at-dataraflow-learning-to-think-in-systems)"
   ]
  },
  {
   "cell_type": "markdown",
   "id": "65d145cf",
   "metadata": {
    "papermill": {
     "duration": 0.009986,
     "end_time": "2025-09-20T23:58:40.767663",
     "exception": false,
     "start_time": "2025-09-20T23:58:40.757677",
     "status": "completed"
    },
    "tags": []
   },
   "source": [
    "# about the youtube video (i also posted in the channel)\n",
    "The video explains data structures as ways to store and organize data, and algorithms as methods to solve problems efficiently. It covers arrays, stacks, queues, linked lists, trees, and graphs, showing how each works. Common searching and sorting techniques like binary search and merge sort are explained with their efficiency. The main point is that the right structure and algorithm make programs faster and more scalable."
   ]
  }
 ],
 "metadata": {
  "kaggle": {
   "accelerator": "none",
   "dataSources": [],
   "dockerImageVersionId": 31089,
   "isGpuEnabled": false,
   "isInternetEnabled": true,
   "language": "python",
   "sourceType": "notebook"
  },
  "kernelspec": {
   "display_name": "Python 3",
   "language": "python",
   "name": "python3"
  },
  "language_info": {
   "codemirror_mode": {
    "name": "ipython",
    "version": 3
   },
   "file_extension": ".py",
   "mimetype": "text/x-python",
   "name": "python",
   "nbconvert_exporter": "python",
   "pygments_lexer": "ipython3",
   "version": "3.11.13"
  },
  "papermill": {
   "default_parameters": {},
   "duration": 7.067143,
   "end_time": "2025-09-20T23:58:41.096819",
   "environment_variables": {},
   "exception": null,
   "input_path": "__notebook__.ipynb",
   "output_path": "__notebook__.ipynb",
   "parameters": {},
   "start_time": "2025-09-20T23:58:34.029676",
   "version": "2.6.0"
  }
 },
 "nbformat": 4,
 "nbformat_minor": 5
}
