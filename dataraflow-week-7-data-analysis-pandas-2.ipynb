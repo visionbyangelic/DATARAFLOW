{
 "cells": [
  {
   "cell_type": "markdown",
   "id": "1eb95277",
   "metadata": {
    "papermill": {
     "duration": 0.005066,
     "end_time": "2025-10-30T10:04:27.341605",
     "exception": false,
     "start_time": "2025-10-30T10:04:27.336539",
     "status": "completed"
    },
    "tags": []
   },
   "source": [
    "![](https://cdn.hashnode.com/res/hashnode/image/upload/v1761770659306/3d774ede-f5b6-44d3-9b3e-a8120fd62eb7.jpeg?w=1600&h=840&fit=crop&crop=entropy&auto=compress,format&format=webp)"
   ]
  },
  {
   "cell_type": "markdown",
   "id": "4422fd65",
   "metadata": {
    "papermill": {
     "duration": 0.003576,
     "end_time": "2025-10-30T10:04:27.349410",
     "exception": false,
     "start_time": "2025-10-30T10:04:27.345834",
     "status": "completed"
    },
    "tags": []
   },
   "source": [
    "# Task\n",
    "\n",
    "### Solve Notebook-1 Tasks Below"
   ]
  },
  {
   "cell_type": "markdown",
   "id": "6207ddde",
   "metadata": {
    "papermill": {
     "duration": 0.003461,
     "end_time": "2025-10-30T10:04:27.356635",
     "exception": false,
     "start_time": "2025-10-30T10:04:27.353174",
     "status": "completed"
    },
    "tags": []
   },
   "source": [
    "#### Note: The code for the tasks below will not run on its own. It assumes all the initial setup code from the notebook (loading London_2014.csv, cleaning columns, changing types, etc.) has already been executed. The following cells provide the solutions to the specific tasks as requested."
   ]
  },
  {
   "cell_type": "markdown",
   "id": "819596f9",
   "metadata": {
    "papermill": {
     "duration": 0.003397,
     "end_time": "2025-10-30T10:04:27.363764",
     "exception": false,
     "start_time": "2025-10-30T10:04:27.360367",
     "status": "completed"
    },
    "tags": []
   },
   "source": [
    "---"
   ]
  },
  {
   "cell_type": "markdown",
   "id": "b8f6956e",
   "metadata": {
    "papermill": {
     "duration": 0.003455,
     "end_time": "2025-10-30T10:04:27.370848",
     "exception": false,
     "start_time": "2025-10-30T10:04:27.367393",
     "status": "completed"
    },
    "tags": []
   },
   "source": [
    " ```1``` Now that the wind direction is given by a number, write code to select all days that had a northerly wind. Hint: select the rows where the direction is greater than or equal to 350 or smaller than or equal to 10, as the compass rose shows."
   ]
  },
  {
   "cell_type": "markdown",
   "id": "bc3e73e1",
   "metadata": {
    "papermill": {
     "duration": 0.003404,
     "end_time": "2025-10-30T10:04:27.377832",
     "exception": false,
     "start_time": "2025-10-30T10:04:27.374428",
     "status": "completed"
    },
    "tags": []
   },
   "source": [
    "```python\n",
    "northerly_wind_days = london[(london['WindDirDegrees'] >= 350) | (london['WindDirDegrees'] <= 10)]\n",
    "\n",
    "# Display the results\n",
    "print(\"--- Days with Northerly Wind ---\")\n",
    "print(northerly_wind_days)\n",
    "```"
   ]
  },
  {
   "cell_type": "markdown",
   "id": "b87dedfa",
   "metadata": {
    "papermill": {
     "duration": 0.003352,
     "end_time": "2025-10-30T10:04:27.384840",
     "exception": false,
     "start_time": "2025-10-30T10:04:27.381488",
     "status": "completed"
    },
    "tags": []
   },
   "source": [
    "---"
   ]
  },
  {
   "cell_type": "markdown",
   "id": "769bd807",
   "metadata": {
    "papermill": {
     "duration": 0.003478,
     "end_time": "2025-10-30T10:04:27.392162",
     "exception": false,
     "start_time": "2025-10-30T10:04:27.388684",
     "status": "completed"
    },
    "tags": []
   },
   "source": [
    "```2``` In the code cell below, write code to get and display all the rows in the dataframe that are beween 1 April 2014 and 11 April 2014.\n",
    "\n",
    "```python\n",
    "\n",
    "# Define the start and end dates\n",
    "start_date = datetime(2014, 4, 1)\n",
    "end_date = datetime(2014, 4, 11)\n",
    "\n",
    "# Select the rows where the 'GMT' column is between the start and end dates\n",
    "april_days = london[(london['GMT'] >= start_date) & (london['GMT'] <= end_date)]\n",
    "\n",
    "# Display the results\n",
    "print(\"--- Days between April 1 and April 11, 2014 ---\")\n",
    "print(april_days)\n",
    "```"
   ]
  },
  {
   "cell_type": "markdown",
   "id": "72eefa18",
   "metadata": {
    "papermill": {
     "duration": 0.003393,
     "end_time": "2025-10-30T10:04:27.399174",
     "exception": false,
     "start_time": "2025-10-30T10:04:27.395781",
     "status": "completed"
    },
    "tags": []
   },
   "source": [
    "---"
   ]
  },
  {
   "cell_type": "markdown",
   "id": "236e5409",
   "metadata": {
    "papermill": {
     "duration": 0.003357,
     "end_time": "2025-10-30T10:04:27.406261",
     "exception": false,
     "start_time": "2025-10-30T10:04:27.402904",
     "status": "completed"
    },
    "tags": []
   },
   "source": [
    "```3``` In the cell below, write two lines of code to display the first five rows that have a missing value in the 'Max Gust SpeedKm/h' column. Hint: first select the missing value rows and store them in a new dataframe, then display the first five rows of the new dataframe.\n",
    "\n",
    "```python\n",
    "\n",
    "missing_gust_speed = london[london['Max Gust SpeedKm/h'].isnull()]\n",
    "\n",
    "# 2. Display the first five rows of this new dataframe.\n",
    "print(\"--- First 5 rows with missing 'Max Gust SpeedKm/h' ---\")\n",
    "print(missing_gust_speed.head())\n",
    "\n",
    "```"
   ]
  },
  {
   "cell_type": "markdown",
   "id": "f4e23eaf",
   "metadata": {
    "papermill": {
     "duration": 0.003398,
     "end_time": "2025-10-30T10:04:27.413268",
     "exception": false,
     "start_time": "2025-10-30T10:04:27.409870",
     "status": "completed"
    },
    "tags": []
   },
   "source": [
    "---"
   ]
  },
  {
   "cell_type": "markdown",
   "id": "9b6fc2d5",
   "metadata": {
    "papermill": {
     "duration": 0.00332,
     "end_time": "2025-10-30T10:04:27.420211",
     "exception": false,
     "start_time": "2025-10-30T10:04:27.416891",
     "status": "completed"
    },
    "tags": []
   },
   "source": [
    "### Solve Notebook-2 Tasks Below"
   ]
  },
  {
   "cell_type": "markdown",
   "id": "492df62a",
   "metadata": {
    "papermill": {
     "duration": 0.003358,
     "end_time": "2025-10-30T10:04:27.427289",
     "exception": false,
     "start_time": "2025-10-30T10:04:27.423931",
     "status": "completed"
    },
    "tags": []
   },
   "source": [
    "```1``` in the cell below, write code to plot the minimum, mean, and maximum temperature during 2014 in London.\n",
    "\n",
    "```python\n",
    "\n",
    "# Make sure plots appear in the notebook\n",
    "%matplotlib inline\n",
    "\n",
    "# Task: Plot the minimum, mean, and maximum temperature during 2014\n",
    "london[['Min TemperatureC', 'Mean TemperatureC', 'Max TemperatureC']].plot(grid=True, figsize=(10,5))\n",
    "\n",
    "```"
   ]
  },
  {
   "cell_type": "markdown",
   "id": "625906a6",
   "metadata": {
    "papermill": {
     "duration": 0.003376,
     "end_time": "2025-10-30T10:04:27.434282",
     "exception": false,
     "start_time": "2025-10-30T10:04:27.430906",
     "status": "completed"
    },
    "tags": []
   },
   "source": [
    "---\n",
    "```2``` Use the code cell below to plot the values of 'Mean Humidity' during spring (full months of March, April and May).\n",
    "\n",
    "\n",
    "```python\n",
    "# Make sure plots appear in the notebook\n",
    "%matplotlib inline\n",
    "\n",
    "if not isinstance(london.index, pd.DatetimeIndex):\n",
    "    london.index = london['GMT']\n",
    "\n",
    "# --- Task: Plot 'Mean Humidity' during spring (March, April and May) ---\n",
    "\n",
    "# 1. Define the start and end of spring\n",
    "spring_start = datetime(2014, 3, 1)\n",
    "spring_end = datetime(2014, 5, 31)\n",
    "\n",
    "# 2. Select the rows for the spring months using .loc\n",
    "spring_data = london.loc[spring_start : spring_end]\n",
    "\n",
    "# 3. Plot the 'Mean Humidity' column from your new spring dataframe\n",
    "print(\"--- Plot of Mean Humidity (Spring 2014) ---\")\n",
    "spring_data['Mean Humidity'].plot(grid=True, figsize=(10,5))\n",
    "\n",
    "```"
   ]
  },
  {
   "cell_type": "markdown",
   "id": "2f879661",
   "metadata": {
    "papermill": {
     "duration": 0.003402,
     "end_time": "2025-10-30T10:04:27.441212",
     "exception": false,
     "start_time": "2025-10-30T10:04:27.437810",
     "status": "completed"
    },
    "tags": []
   },
   "source": [
    "# Project :  Holiday weather\n",
    "\n",
    "\n",
    "There is nothing I like better than taking a holiday. In this project I am going to use the historic weather data from the Weather Underground for London to try to predict two good weather weeks to take off as holiday. Of course the weather in the summer of 2025 may be very different to 2020 but it should give some indication of when would be a good time to take a summer break.\n",
    "\n",
    "## Getting the data\n",
    "\n",
    "Weather Underground keeps historical weather data collected in many airports around the world. Right-click on the following URL and choose 'Open Link in New Window' (or similar, depending on your browser):\n",
    "\n",
    "http://www.wunderground.com/history\n",
    "\n",
    "When the new page opens start typing 'LHR' in the 'Location' input box and when the pop up menu comes up with the option 'LHR, United Kingdom' select it and then click on 'Submit'. \n",
    "\n",
    "When the next page opens with London Heathrow data, click on the 'Custom' tab and select the time period From: 1 January 2023 to: 31 December 2023 and then click on 'Get History'. The data for that year should then be displayed further down the page. \n",
    "\n",
    "You can copy each month's data directly from the browser to a text editor like Notepad or TextEdit, to obtain a single file with as many months as you wish.\n",
    "\n",
    "\n",
    "Now load the CSV file into a dataframe making sure that any extra spaces are skipped:"
   ]
  },
  {
   "cell_type": "markdown",
   "id": "8ad6730f",
   "metadata": {
    "papermill": {
     "duration": 0.003432,
     "end_time": "2025-10-30T10:04:27.448205",
     "exception": false,
     "start_time": "2025-10-30T10:04:27.444773",
     "status": "completed"
    },
    "tags": []
   },
   "source": [
    "## Step-1 Cleaning the data\n"
   ]
  },
  {
   "cell_type": "code",
   "execution_count": 1,
   "id": "3252e913",
   "metadata": {
    "execution": {
     "iopub.execute_input": "2025-10-30T10:04:27.457071Z",
     "iopub.status.busy": "2025-10-30T10:04:27.456690Z",
     "iopub.status.idle": "2025-10-30T10:04:29.311509Z",
     "shell.execute_reply": "2025-10-30T10:04:29.310429Z"
    },
    "papermill": {
     "duration": 1.861451,
     "end_time": "2025-10-30T10:04:29.313283",
     "exception": false,
     "start_time": "2025-10-30T10:04:27.451832",
     "status": "completed"
    },
    "tags": []
   },
   "outputs": [
    {
     "name": "stdout",
     "output_type": "stream",
     "text": [
      "<class 'pandas.core.frame.DataFrame'>\n",
      "RangeIndex: 365 entries, 0 to 364\n",
      "Data columns (total 11 columns):\n",
      " #   Column  Non-Null Count  Dtype  \n",
      "---  ------  --------------  -----  \n",
      " 0   date    365 non-null    object \n",
      " 1   tavg    365 non-null    float64\n",
      " 2   tmin    365 non-null    float64\n",
      " 3   tmax    365 non-null    float64\n",
      " 4   prcp    365 non-null    float64\n",
      " 5   snow    4 non-null      float64\n",
      " 6   wdir    0 non-null      float64\n",
      " 7   wspd    365 non-null    float64\n",
      " 8   wpgt    365 non-null    int64  \n",
      " 9   pres    365 non-null    float64\n",
      " 10  tsun    365 non-null    int64  \n",
      "dtypes: float64(8), int64(2), object(1)\n",
      "memory usage: 31.5+ KB\n"
     ]
    }
   ],
   "source": [
    "import pandas as pd\n",
    "from datetime import datetime\n",
    "import warnings\n",
    "warnings.simplefilter('ignore', FutureWarning)\n",
    "\n",
    "# Make plots appear in the notebook\n",
    "%matplotlib inline\n",
    "\n",
    "# Load your dataset\n",
    "file_path = '/kaggle/input/heathrow-airport-meteostat/export.csv'\n",
    "df = pd.read_csv(file_path)\n",
    "\n",
    "# Inspect the data (just like in the notebook)\n",
    "df.info()"
   ]
  },
  {
   "cell_type": "code",
   "execution_count": 2,
   "id": "c08e42b9",
   "metadata": {
    "execution": {
     "iopub.execute_input": "2025-10-30T10:04:29.323426Z",
     "iopub.status.busy": "2025-10-30T10:04:29.322599Z",
     "iopub.status.idle": "2025-10-30T10:04:29.340863Z",
     "shell.execute_reply": "2025-10-30T10:04:29.339741Z"
    },
    "papermill": {
     "duration": 0.024936,
     "end_time": "2025-10-30T10:04:29.342368",
     "exception": false,
     "start_time": "2025-10-30T10:04:29.317432",
     "status": "completed"
    },
    "tags": []
   },
   "outputs": [
    {
     "name": "stdout",
     "output_type": "stream",
     "text": [
      "--- Cleaned and Indexed Data ---\n",
      "<class 'pandas.core.frame.DataFrame'>\n",
      "DatetimeIndex: 365 entries, 2023-01-01 to 2023-12-31\n",
      "Data columns (total 8 columns):\n",
      " #   Column  Non-Null Count  Dtype  \n",
      "---  ------  --------------  -----  \n",
      " 0   tavg    365 non-null    float64\n",
      " 1   tmin    365 non-null    float64\n",
      " 2   tmax    365 non-null    float64\n",
      " 3   prcp    365 non-null    float64\n",
      " 4   wspd    365 non-null    float64\n",
      " 5   wpgt    365 non-null    int64  \n",
      " 6   pres    365 non-null    float64\n",
      " 7   tsun    365 non-null    int64  \n",
      "dtypes: float64(6), int64(2)\n",
      "memory usage: 25.7 KB\n"
     ]
    }
   ],
   "source": [
    "# --- 2. Data Cleaning ---\n",
    "\n",
    "# Convert 'date' column from text (object) to a datetime object\n",
    "df['date'] = pd.to_datetime(df['date'])\n",
    "\n",
    "# Drop empty columns (drop 'wdir' (100% empty) and 'snow' (99% empty) )\n",
    "df = df.drop(columns=['wdir', 'snow'])\n",
    "\n",
    "# Set the 'date' column as the index ---\n",
    "df.index = df['date']\n",
    "\n",
    "# drop the original 'date' column\n",
    "df = df.drop(columns=['date'])\n",
    "\n",
    "# --- Verification ---\n",
    "print(\"--- Cleaned and Indexed Data ---\")\n",
    "df.info()"
   ]
  },
  {
   "cell_type": "markdown",
   "id": "2ef1973b",
   "metadata": {
    "papermill": {
     "duration": 0.003684,
     "end_time": "2025-10-30T10:04:29.350301",
     "exception": false,
     "start_time": "2025-10-30T10:04:29.346617",
     "status": "completed"
    },
    "tags": []
   },
   "source": [
    "---"
   ]
  },
  {
   "cell_type": "markdown",
   "id": "bd84a6ee",
   "metadata": {
    "papermill": {
     "duration": 0.003738,
     "end_time": "2025-10-30T10:04:29.357974",
     "exception": false,
     "start_time": "2025-10-30T10:04:29.354236",
     "status": "completed"
    },
    "tags": []
   },
   "source": [
    "## Step-2 Finding a summer break\n",
    "\n",
    "According to meteorologists, summer extends for the whole months of June, July, and August in the northern hemisphere and the whole months of December, January, and February in the southern hemisphere. So create a dataframe that holds just those months using the `datetime` index."
   ]
  },
  {
   "cell_type": "code",
   "execution_count": 3,
   "id": "0b2718a6",
   "metadata": {
    "execution": {
     "iopub.execute_input": "2025-10-30T10:04:29.367417Z",
     "iopub.status.busy": "2025-10-30T10:04:29.366856Z",
     "iopub.status.idle": "2025-10-30T10:04:29.381684Z",
     "shell.execute_reply": "2025-10-30T10:04:29.380619Z"
    },
    "papermill": {
     "duration": 0.02111,
     "end_time": "2025-10-30T10:04:29.383159",
     "exception": false,
     "start_time": "2025-10-30T10:04:29.362049",
     "status": "completed"
    },
    "tags": []
   },
   "outputs": [
    {
     "name": "stdout",
     "output_type": "stream",
     "text": [
      "--- Summer Dataframe Created: 92 days ---\n",
      "            tavg  tmin  tmax  prcp  wspd  wpgt    pres  tsun\n",
      "date                                                        \n",
      "2023-06-01  13.0   9.9  19.8   0.0  15.8    41  1025.5   439\n",
      "2023-06-02  13.8  10.5  19.4   0.0  16.7    37  1024.5   473\n",
      "2023-06-03  15.2   7.4  22.8   0.0  14.0    35  1023.4   538\n",
      "2023-06-04  16.1   9.1  22.6   0.0  13.2    35  1023.8   781\n",
      "2023-06-05  13.4   9.5  21.4   0.0  14.8    32  1024.5   513\n"
     ]
    }
   ],
   "source": [
    "# Create the summer dataframe\n",
    "start_summer = datetime(2023, 6, 1)\n",
    "end_summer = datetime(2023, 8, 31)\n",
    "\n",
    "summer_df = df.loc[start_summer : end_summer].copy()\n",
    "\n",
    "# --- Verification ---\n",
    "print(f\"--- Summer Dataframe Created: {len(summer_df)} days ---\")\n",
    "print(summer_df.head())"
   ]
  },
  {
   "cell_type": "code",
   "execution_count": 4,
   "id": "10cd63fa",
   "metadata": {
    "execution": {
     "iopub.execute_input": "2025-10-30T10:04:29.392402Z",
     "iopub.status.busy": "2025-10-30T10:04:29.392155Z",
     "iopub.status.idle": "2025-10-30T10:04:29.790215Z",
     "shell.execute_reply": "2025-10-30T10:04:29.789361Z"
    },
    "papermill": {
     "duration": 0.404687,
     "end_time": "2025-10-30T10:04:29.792042",
     "exception": false,
     "start_time": "2025-10-30T10:04:29.387355",
     "status": "completed"
    },
    "tags": []
   },
   "outputs": [
    {
     "name": "stdout",
     "output_type": "stream",
     "text": [
      "--- Analysis Plots ---\n"
     ]
    },
    {
     "data": {
      "text/plain": [
       "<Axes: title={'center': '14-Day Total Precipitation (Find the Lowest Point)'}, xlabel='date'>"
      ]
     },
     "execution_count": 4,
     "metadata": {},
     "output_type": "execute_result"
    },
    {
     "data": {
      "image/png": "[encoded data removed]",
      "text/plain": [
       "<Figure size 1000x500 with 1 Axes>"
      ]
     },
     "metadata": {},
     "output_type": "display_data"
    }
   ],
   "source": [
    "# --- 4. Analysis: Find Best Two Weeks ---\n",
    "\n",
    "# Define our 14-day (\"two week\") window\n",
    "window_size = 14\n",
    "\n",
    "# --- Calculate Rolling Statistics ---\n",
    "# using the ORIGINAL, clean names: 'tmax' and 'prcp'\n",
    "summer_df['14_Day_Avg_Max_Temp'] = summer_df['tmax'].rolling(window=window_size).mean()\n",
    "summer_df['14_Day_Total_Precip'] = summer_df['prcp'].rolling(window=window_size).sum()\n",
    "\n",
    "# --- Plot the Results ---\n",
    "\n",
    "print(\"--- Analysis Plots ---\")\n",
    "\n",
    "# Plot 1: Average Max Temperature\n",
    "# We're looking for the PEAK (highest point) on this graph\n",
    "summer_df['14_Day_Avg_Max_Temp'].plot(grid=True, figsize=(10,5), \n",
    "                                      title='14-Day Average Max Temperature (Find the Peak)')\n",
    "\n",
    "# Plot 2: Total Precipitation\n",
    "# We're looking for the VALLEY (lowest point) on this graph\n",
    "summer_df['14_Day_Total_Precip'].plot(grid=True, figsize=(10,5), \n",
    "                                     title='14-Day Total Precipitation (Find the Lowest Point)')"
   ]
  },
  {
   "cell_type": "markdown",
   "id": "7eb3d66a",
   "metadata": {
    "papermill": {
     "duration": 0.005005,
     "end_time": "2025-10-30T10:04:29.803794",
     "exception": false,
     "start_time": "2025-10-30T10:04:29.798789",
     "status": "completed"
    },
    "tags": []
   },
   "source": [
    "---"
   ]
  },
  {
   "cell_type": "code",
   "execution_count": 5,
   "id": "5ef10e9f",
   "metadata": {
    "execution": {
     "iopub.execute_input": "2025-10-30T10:04:29.815102Z",
     "iopub.status.busy": "2025-10-30T10:04:29.814811Z",
     "iopub.status.idle": "2025-10-30T10:04:29.822820Z",
     "shell.execute_reply": "2025-10-30T10:04:29.821908Z"
    },
    "papermill": {
     "duration": 0.015511,
     "end_time": "2025-10-30T10:04:29.824234",
     "exception": false,
     "start_time": "2025-10-30T10:04:29.808723",
     "status": "completed"
    },
    "tags": []
   },
   "outputs": [
    {
     "name": "stdout",
     "output_type": "stream",
     "text": [
      "--- 🏆 Holiday Recommendation ---\n",
      "\n",
      "Based on the 2023 data analysis, the best two-week holiday period is:\n",
      "  Start Date: June 10, 2023\n",
      "  End Date:   June 23, 2023\n",
      "\n",
      "Weather stats for this winning period:\n",
      "  Average Max Temp: 27.7°C\n",
      "  Total Precipitation: 47.0 mm\n"
     ]
    }
   ],
   "source": [
    "# --- 5. Find the Best Day from Our Analysis ---\n",
    "\n",
    "best_end_date = summer_df['14_Day_Avg_Max_Temp'].idxmax()\n",
    "\n",
    "# Calculate the start date\n",
    "best_start_date = best_end_date - pd.Timedelta(days=(window_size - 1))\n",
    "\n",
    "# Get the stats for that best period\n",
    "best_period_stats = summer_df.loc[best_end_date]\n",
    "\n",
    "\n",
    "# --- Display The Final Result ---\n",
    "print(\"--- 🏆 Holiday Recommendation ---\")\n",
    "print(\"\\nBased on the 2023 data analysis, the best two-week holiday period is:\")\n",
    "print(f\"  Start Date: {best_start_date.strftime('%B %d, %Y')}\")\n",
    "print(f\"  End Date:   {best_end_date.strftime('%B %d, %Y')}\")\n",
    "\n",
    "print(\"\\nWeather stats for this winning period:\")\n",
    "print(f\"  Average Max Temp: {best_period_stats['14_Day_Avg_Max_Temp']:.1f}°C\")\n",
    "print(f\"  Total Precipitation: {best_period_stats['14_Day_Total_Precip']:.1f} mm\")"
   ]
  },
  {
   "cell_type": "markdown",
   "id": "9323a3d7",
   "metadata": {
    "papermill": {
     "duration": 0.005021,
     "end_time": "2025-10-30T10:04:29.834766",
     "exception": false,
     "start_time": "2025-10-30T10:04:29.829745",
     "status": "completed"
    },
    "tags": []
   },
   "source": [
    "# Publication Link"
   ]
  },
  {
   "cell_type": "markdown",
   "id": "75bf5687",
   "metadata": {
    "papermill": {
     "duration": 0.004891,
     "end_time": "2025-10-30T10:04:29.844676",
     "exception": false,
     "start_time": "2025-10-30T10:04:29.839785",
     "status": "completed"
    },
    "tags": []
   },
   "source": [
    "https://nerdyalgorithm.hashnode.dev/week-7-at-dataraflow-the-project-behind-the-project"
   ]
  },
  {
   "cell_type": "code",
   "execution_count": null,
   "id": "19b736bd",
   "metadata": {
    "papermill": {
     "duration": 0.004872,
     "end_time": "2025-10-30T10:04:29.854627",
     "exception": false,
     "start_time": "2025-10-30T10:04:29.849755",
     "status": "completed"
    },
    "tags": []
   },
   "outputs": [],
   "source": []
  }
 ],
 "metadata": {
  "kaggle": {
   "accelerator": "none",
   "dataSources": [
    {
     "datasetId": 8603630,
     "sourceId": 13547004,
     "sourceType": "datasetVersion"
    }
   ],
   "dockerImageVersionId": 31153,
   "isGpuEnabled": false,
   "isInternetEnabled": true,
   "language": "python",
   "sourceType": "notebook"
  },
  "kernelspec": {
   "display_name": "Python 3",
   "language": "python",
   "name": "python3"
  },
  "language_info": {
   "codemirror_mode": {
    "name": "ipython",
    "version": 3
   },
   "file_extension": ".py",
   "mimetype": "text/x-python",
   "name": "python",
   "nbconvert_exporter": "python",
   "pygments_lexer": "ipython3",
   "version": "3.11.13"
  },
  "papermill": {
   "default_parameters": {},
   "duration": 7.492662,
   "end_time": "2025-10-30T10:04:30.379570",
   "environment_variables": {},
   "exception": null,
   "input_path": "__notebook__.ipynb",
   "output_path": "__notebook__.ipynb",
   "parameters": {},
   "start_time": "2025-10-30T10:04:22.886908",
   "version": "2.6.0"
  }
 },
 "nbformat": 4,
 "nbformat_minor": 5
}
