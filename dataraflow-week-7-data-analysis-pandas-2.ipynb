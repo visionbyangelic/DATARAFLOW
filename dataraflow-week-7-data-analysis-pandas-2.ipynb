{
 "cells": [
  {
   "cell_type": "markdown",
   "id": "2d8a53ec",
   "metadata": {
    "papermill": {
     "duration": 0.00603,
     "end_time": "2025-11-01T17:35:28.301989",
     "exception": false,
     "start_time": "2025-11-01T17:35:28.295959",
     "status": "completed"
    },
    "tags": []
   },
   "source": [
    "![](https://cdn.hashnode.com/res/hashnode/image/upload/v1761770659306/3d774ede-f5b6-44d3-9b3e-a8120fd62eb7.jpeg?w=1600&h=840&fit=crop&crop=entropy&auto=compress,format&format=webp)"
   ]
  },
  {
   "cell_type": "markdown",
   "id": "66aef7ae",
   "metadata": {
    "papermill": {
     "duration": 0.00535,
     "end_time": "2025-11-01T17:35:28.312894",
     "exception": false,
     "start_time": "2025-11-01T17:35:28.307544",
     "status": "completed"
    },
    "tags": []
   },
   "source": [
    "# Task\n",
    "\n",
    "### Solve Notebook-1 Tasks Below"
   ]
  },
  {
   "cell_type": "markdown",
   "id": "d1055d78",
   "metadata": {
    "papermill": {
     "duration": 0.004488,
     "end_time": "2025-11-01T17:35:28.322318",
     "exception": false,
     "start_time": "2025-11-01T17:35:28.317830",
     "status": "completed"
    },
    "tags": []
   },
   "source": [
    "#### Note: The code for the tasks below will not run on its own. It assumes all the initial setup code from the notebook (loading London_2014.csv, cleaning columns, changing types, etc.) has already been executed. The following cells provide the solutions to the specific tasks as requested."
   ]
  },
  {
   "cell_type": "markdown",
   "id": "35a77e52",
   "metadata": {
    "papermill": {
     "duration": 0.004508,
     "end_time": "2025-11-01T17:35:28.331688",
     "exception": false,
     "start_time": "2025-11-01T17:35:28.327180",
     "status": "completed"
    },
    "tags": []
   },
   "source": [
    "---"
   ]
  },
  {
   "cell_type": "markdown",
   "id": "507a053b",
   "metadata": {
    "papermill": {
     "duration": 0.004751,
     "end_time": "2025-11-01T17:35:28.341243",
     "exception": false,
     "start_time": "2025-11-01T17:35:28.336492",
     "status": "completed"
    },
    "tags": []
   },
   "source": [
    " ```1``` Now that the wind direction is given by a number, write code to select all days that had a northerly wind. Hint: select the rows where the direction is greater than or equal to 350 or smaller than or equal to 10, as the compass rose shows."
   ]
  },
  {
   "cell_type": "markdown",
   "id": "96cdb5bf",
   "metadata": {
    "papermill": {
     "duration": 0.005182,
     "end_time": "2025-11-01T17:35:28.352676",
     "exception": false,
     "start_time": "2025-11-01T17:35:28.347494",
     "status": "completed"
    },
    "tags": []
   },
   "source": [
    "```python\n",
    "# Selects rows where WindDirDegrees is >= 350 OR (using '|') <= 10\n",
    "northerly_wind_days = london[(london['WindDirDegrees'] >= 350) | (london['WindDirDegrees'] <= 10)]\n",
    "\n",
    "# Display the results\n",
    "print(\" Days with Northerly Wind \")\n",
    "print(northerly_wind_days)\n",
    "```"
   ]
  },
  {
   "cell_type": "markdown",
   "id": "fe270a8c",
   "metadata": {
    "papermill": {
     "duration": 0.00449,
     "end_time": "2025-11-01T17:35:28.362145",
     "exception": false,
     "start_time": "2025-11-01T17:35:28.357655",
     "status": "completed"
    },
    "tags": []
   },
   "source": [
    "---"
   ]
  },
  {
   "cell_type": "markdown",
   "id": "6ab4151e",
   "metadata": {
    "papermill": {
     "duration": 0.004588,
     "end_time": "2025-11-01T17:35:28.371543",
     "exception": false,
     "start_time": "2025-11-01T17:35:28.366955",
     "status": "completed"
    },
    "tags": []
   },
   "source": [
    "```2``` In the code cell below, write code to get and display all the rows in the dataframe that are beween 1 April 2014 and 11 April 2014.\n",
    "\n",
    "```python\n",
    "\n",
    "# Define the start and end dates\n",
    "start_date = datetime(2014, 4, 1)\n",
    "end_date = datetime(2014, 4, 11)\n",
    "\n",
    "# Create the mask and filter the DataFrame\n",
    "# The '&' (AND) operator ensures the date is between both values\n",
    "\n",
    "april_days = london[(london['GMT'] >= start_date) & (london['GMT'] <= end_date)]\n",
    "\n",
    "# Display the results\n",
    "print(\"\\n Days between April 1 and April 11, 2014 \")\n",
    "print(april_days)\n",
    "\n",
    "```"
   ]
  },
  {
   "cell_type": "markdown",
   "id": "9966f701",
   "metadata": {
    "papermill": {
     "duration": 0.004551,
     "end_time": "2025-11-01T17:35:28.380783",
     "exception": false,
     "start_time": "2025-11-01T17:35:28.376232",
     "status": "completed"
    },
    "tags": []
   },
   "source": [
    "---"
   ]
  },
  {
   "cell_type": "markdown",
   "id": "3d04897e",
   "metadata": {
    "papermill": {
     "duration": 0.004426,
     "end_time": "2025-11-01T17:35:28.390096",
     "exception": false,
     "start_time": "2025-11-01T17:35:28.385670",
     "status": "completed"
    },
    "tags": []
   },
   "source": [
    "```3``` In the cell below, write two lines of code to display the first five rows that have a missing value in the 'Max Gust SpeedKm/h' column. Hint: first select the missing value rows and store them in a new dataframe, then display the first five rows of the new dataframe.\n",
    "\n",
    "```python\n",
    "\n",
    "# 1. Get all rows where 'Max Gust SpeedKm/h' is null\n",
    "missing_gust_speed = london[london['Max Gust SpeedKm/h'].isnull()]\n",
    "\n",
    "# 2. Display the first five rows of this new dataframe.\n",
    "print(\"\\n First 5 rows with missing 'Max Gust SpeedKm/h' \")\n",
    "print(missing_gust_speed.head())\n",
    "\n",
    "```"
   ]
  },
  {
   "cell_type": "markdown",
   "id": "9f4e8844",
   "metadata": {
    "papermill": {
     "duration": 0.004461,
     "end_time": "2025-11-01T17:35:28.399253",
     "exception": false,
     "start_time": "2025-11-01T17:35:28.394792",
     "status": "completed"
    },
    "tags": []
   },
   "source": [
    "---"
   ]
  },
  {
   "cell_type": "markdown",
   "id": "70e74cf0",
   "metadata": {
    "papermill": {
     "duration": 0.004456,
     "end_time": "2025-11-01T17:35:28.408466",
     "exception": false,
     "start_time": "2025-11-01T17:35:28.404010",
     "status": "completed"
    },
    "tags": []
   },
   "source": [
    "### Solve Notebook-2 Tasks Below"
   ]
  },
  {
   "cell_type": "markdown",
   "id": "0f5d2708",
   "metadata": {
    "papermill": {
     "duration": 0.004838,
     "end_time": "2025-11-01T17:35:28.418069",
     "exception": false,
     "start_time": "2025-11-01T17:35:28.413231",
     "status": "completed"
    },
    "tags": []
   },
   "source": [
    "```1``` in the cell below, write code to plot the minimum, mean, and maximum temperature during 2014 in London.\n",
    "\n",
    "```python\n",
    "\n",
    "# Make sure plots appear in the notebook\n",
    "%matplotlib inline\n",
    "\n",
    "# Task: Plot the minimum, mean, and maximum temperature during 2014\n",
    "london[['Min TemperatureC', 'Mean TemperatureC', 'Max TemperatureC']].plot(grid=True, figsize=(10,5))\n",
    "\n",
    "```"
   ]
  },
  {
   "cell_type": "markdown",
   "id": "83f2e682",
   "metadata": {
    "papermill": {
     "duration": 0.004826,
     "end_time": "2025-11-01T17:35:28.427819",
     "exception": false,
     "start_time": "2025-11-01T17:35:28.422993",
     "status": "completed"
    },
    "tags": []
   },
   "source": [
    "---\n",
    "```2``` Use the code cell below to plot the values of 'Mean Humidity' during spring (full months of March, April and May).\n",
    "\n",
    "\n",
    "```python\n",
    "# Make sure plots appear in the notebook\n",
    "%matplotlib inline\n",
    "\n",
    "if not isinstance(london.index, pd.DatetimeIndex):\n",
    "    london.index = london['GMT']\n",
    "\n",
    "# --- Task: Plot 'Mean Humidity' during spring (March, April and May) ---\n",
    "\n",
    "# 1. Define the start and end of spring\n",
    "spring_start = datetime(2014, 3, 1)\n",
    "spring_end = datetime(2014, 5, 31)\n",
    "\n",
    "# 2. Select the rows for the spring months using .loc\n",
    "spring_data = london.loc[spring_start : spring_end]\n",
    "\n",
    "# 3. Plot the 'Mean Humidity' column from your new spring dataframe\n",
    "print(\"Plotting Mean Humidity for Spring 2014...\")\n",
    "spring_data['Mean Humidity'].plot(grid=True, figsize=(10,5))\n",
    "\n",
    "```"
   ]
  },
  {
   "cell_type": "markdown",
   "id": "658e8ab3",
   "metadata": {
    "papermill": {
     "duration": 0.005208,
     "end_time": "2025-11-01T17:35:28.438208",
     "exception": false,
     "start_time": "2025-11-01T17:35:28.433000",
     "status": "completed"
    },
    "tags": []
   },
   "source": [
    "# Project :  Holiday weather\n",
    "\n",
    "\n",
    "There is nothing I like better than taking a holiday. In this project I am going to use the historic weather data from the Weather Underground for London to try to predict two good weather weeks to take off as holiday. Of course the weather in the summer of 2025 may be very different to 2020 but it should give some indication of when would be a good time to take a summer break.\n",
    "\n",
    "## Getting the data\n",
    "\n",
    "Weather Underground keeps historical weather data collected in many airports around the world. Right-click on the following URL and choose 'Open Link in New Window' (or similar, depending on your browser):\n",
    "\n",
    "http://www.wunderground.com/history\n",
    "\n",
    "When the new page opens start typing 'LHR' in the 'Location' input box and when the pop up menu comes up with the option 'LHR, United Kingdom' select it and then click on 'Submit'. \n",
    "\n",
    "When the next page opens with London Heathrow data, click on the 'Custom' tab and select the time period From: 1 January 2023 to: 31 December 2023 and then click on 'Get History'. The data for that year should then be displayed further down the page. \n",
    "\n",
    "You can copy each month's data directly from the browser to a text editor like Notepad or TextEdit, to obtain a single file with as many months as you wish.\n",
    "\n",
    "\n",
    "Now load the CSV file into a dataframe making sure that any extra spaces are skipped:"
   ]
  },
  {
   "cell_type": "markdown",
   "id": "d6984af6",
   "metadata": {
    "papermill": {
     "duration": 0.004538,
     "end_time": "2025-11-01T17:35:28.447723",
     "exception": false,
     "start_time": "2025-11-01T17:35:28.443185",
     "status": "completed"
    },
    "tags": []
   },
   "source": [
    "## Step-1 Cleaning the data\n"
   ]
  },
  {
   "cell_type": "code",
   "execution_count": 1,
   "id": "7960c9ce",
   "metadata": {
    "execution": {
     "iopub.execute_input": "2025-11-01T17:35:28.459019Z",
     "iopub.status.busy": "2025-11-01T17:35:28.458670Z",
     "iopub.status.idle": "2025-11-01T17:35:30.578737Z",
     "shell.execute_reply": "2025-11-01T17:35:30.577234Z"
    },
    "papermill": {
     "duration": 2.127877,
     "end_time": "2025-11-01T17:35:30.580319",
     "exception": false,
     "start_time": "2025-11-01T17:35:28.452442",
     "status": "completed"
    },
    "tags": []
   },
   "outputs": [
    {
     "name": "stdout",
     "output_type": "stream",
     "text": [
      "Libraries imported successfully (including plotting setup)!\n"
     ]
    }
   ],
   "source": [
    "import pandas as pd\n",
    "from datetime import datetime\n",
    "import warnings\n",
    "\n",
    "\n",
    "%matplotlib inline\n",
    "# It's also good practice to import 'warnings' to manage\n",
    "warnings.simplefilter('ignore', FutureWarning)\n",
    "warnings.filterwarnings('ignore')\n",
    "\n",
    "print(\"Libraries imported successfully (including plotting setup)!\")"
   ]
  },
  {
   "cell_type": "code",
   "execution_count": 2,
   "id": "9eb614b9",
   "metadata": {
    "execution": {
     "iopub.execute_input": "2025-11-01T17:35:30.592186Z",
     "iopub.status.busy": "2025-11-01T17:35:30.591742Z",
     "iopub.status.idle": "2025-11-01T17:35:30.651172Z",
     "shell.execute_reply": "2025-11-01T17:35:30.649884Z"
    },
    "papermill": {
     "duration": 0.067359,
     "end_time": "2025-11-01T17:35:30.653035",
     "exception": false,
     "start_time": "2025-11-01T17:35:30.585676",
     "status": "completed"
    },
    "tags": []
   },
   "outputs": [
    {
     "name": "stdout",
     "output_type": "stream",
     "text": [
      "Data loaded. Displaying first 5 rows:\n",
      "                  date  tavg  tmin  tmax  prcp  snow  wdir  wspd  wpgt  \\\n",
      "0  2023-01-01 00:00:00  10.6   7.5  13.6   4.8   NaN   NaN  19.0    50   \n",
      "1  2023-01-02 00:00:00   5.9   3.5   8.7   0.0   NaN   NaN  10.2    24   \n",
      "2  2023-01-03 00:00:00   8.6   2.1  12.7   0.0   NaN   NaN  18.6    53   \n",
      "3  2023-01-04 00:00:00  12.6  10.8  13.6   0.0   NaN   NaN  31.4    68   \n",
      "4  2023-01-05 00:00:00  11.4   8.9  13.4   0.0   NaN   NaN  20.7    47   \n",
      "\n",
      "     pres  tsun  \n",
      "0  1007.9    61  \n",
      "1  1016.9   174  \n",
      "2  1018.5     6  \n",
      "3  1014.6    49  \n",
      "4  1018.6    24  \n",
      "\n",
      "Displaying data info (types and non-null counts):\n",
      "<class 'pandas.core.frame.DataFrame'>\n",
      "RangeIndex: 365 entries, 0 to 364\n",
      "Data columns (total 11 columns):\n",
      " #   Column  Non-Null Count  Dtype  \n",
      "---  ------  --------------  -----  \n",
      " 0   date    365 non-null    object \n",
      " 1   tavg    365 non-null    float64\n",
      " 2   tmin    365 non-null    float64\n",
      " 3   tmax    365 non-null    float64\n",
      " 4   prcp    365 non-null    float64\n",
      " 5   snow    4 non-null      float64\n",
      " 6   wdir    0 non-null      float64\n",
      " 7   wspd    365 non-null    float64\n",
      " 8   wpgt    365 non-null    int64  \n",
      " 9   pres    365 non-null    float64\n",
      " 10  tsun    365 non-null    int64  \n",
      "dtypes: float64(8), int64(2), object(1)\n",
      "memory usage: 31.5+ KB\n"
     ]
    }
   ],
   "source": [
    "# Load your dataset\n",
    "file_path = '/kaggle/input/heathrow-airport-meteostat/export.csv'\n",
    "df = pd.read_csv(file_path)\n",
    "\n",
    "# After loading, let's look at the first few rows to see what we're dealing with.\n",
    "print(\"Data loaded. Displaying first 5 rows:\")\n",
    "print(df.head())\n",
    "\n",
    "# It's also critical to see the data types and if there are any nulls.\n",
    "print(\"\\nDisplaying data info (types and non-null counts):\")\n",
    "df.info()"
   ]
  },
  {
   "cell_type": "code",
   "execution_count": 3,
   "id": "8a764a2c",
   "metadata": {
    "execution": {
     "iopub.execute_input": "2025-11-01T17:35:30.664650Z",
     "iopub.status.busy": "2025-11-01T17:35:30.664265Z",
     "iopub.status.idle": "2025-11-01T17:35:30.685692Z",
     "shell.execute_reply": "2025-11-01T17:35:30.684508Z"
    },
    "papermill": {
     "duration": 0.029157,
     "end_time": "2025-11-01T17:35:30.687397",
     "exception": false,
     "start_time": "2025-11-01T17:35:30.658240",
     "status": "completed"
    },
    "tags": []
   },
   "outputs": [
    {
     "name": "stdout",
     "output_type": "stream",
     "text": [
      "  After Step 1: df.info()  \n",
      "<class 'pandas.core.frame.DataFrame'>\n",
      "DatetimeIndex: 365 entries, 2023-01-01 to 2023-12-31\n",
      "Data columns (total 10 columns):\n",
      " #   Column  Non-Null Count  Dtype  \n",
      "---  ------  --------------  -----  \n",
      " 0   tavg    365 non-null    float64\n",
      " 1   tmin    365 non-null    float64\n",
      " 2   tmax    365 non-null    float64\n",
      " 3   prcp    365 non-null    float64\n",
      " 4   snow    4 non-null      float64\n",
      " 5   wdir    0 non-null      float64\n",
      " 6   wspd    365 non-null    float64\n",
      " 7   wpgt    365 non-null    int64  \n",
      " 8   pres    365 non-null    float64\n",
      " 9   tsun    365 non-null    int64  \n",
      "dtypes: float64(8), int64(2)\n",
      "memory usage: 31.4 KB\n",
      "\n",
      " After Step 1: df.head()  \n",
      "            tavg  tmin  tmax  prcp  snow  wdir  wspd  wpgt    pres  tsun\n",
      "date                                                                    \n",
      "2023-01-01  10.6   7.5  13.6   4.8   NaN   NaN  19.0    50  1007.9    61\n",
      "2023-01-02   5.9   3.5   8.7   0.0   NaN   NaN  10.2    24  1016.9   174\n",
      "2023-01-03   8.6   2.1  12.7   0.0   NaN   NaN  18.6    53  1018.5     6\n",
      "2023-01-04  12.6  10.8  13.6   0.0   NaN   NaN  31.4    68  1014.6    49\n",
      "2023-01-05  11.4   8.9  13.4   0.0   NaN   NaN  20.7    47  1018.6    24\n"
     ]
    }
   ],
   "source": [
    "# 1. Convert the 'date' column from object (string) to datetime\n",
    "df['date'] = pd.to_datetime(df['date'])\n",
    "\n",
    "# 2. Set this 'date' column as the index.\n",
    "# 'inplace=True' modifies the 'df' DataFrame directly.\n",
    "df.set_index('date', inplace=True)\n",
    "\n",
    "# 3. Let's check our work.\n",
    "print(\"  After Step 1: df.info()  \")\n",
    "df.info()\n",
    "\n",
    "print(\"\\n After Step 1: df.head()  \")\n",
    "print(df.head())"
   ]
  },
  {
   "cell_type": "code",
   "execution_count": 4,
   "id": "8a623ccd",
   "metadata": {
    "execution": {
     "iopub.execute_input": "2025-11-01T17:35:30.699876Z",
     "iopub.status.busy": "2025-11-01T17:35:30.699547Z",
     "iopub.status.idle": "2025-11-01T17:35:30.718591Z",
     "shell.execute_reply": "2025-11-01T17:35:30.717445Z"
    },
    "papermill": {
     "duration": 0.027239,
     "end_time": "2025-11-01T17:35:30.720211",
     "exception": false,
     "start_time": "2025-11-01T17:35:30.692972",
     "status": "completed"
    },
    "tags": []
   },
   "outputs": [
    {
     "name": "stdout",
     "output_type": "stream",
     "text": [
      "--- After Step 2: df.info() ---\n",
      "<class 'pandas.core.frame.DataFrame'>\n",
      "DatetimeIndex: 365 entries, 2023-01-01 to 2023-12-31\n",
      "Data columns (total 8 columns):\n",
      " #   Column  Non-Null Count  Dtype  \n",
      "---  ------  --------------  -----  \n",
      " 0   tavg    365 non-null    float64\n",
      " 1   tmin    365 non-null    float64\n",
      " 2   tmax    365 non-null    float64\n",
      " 3   prcp    365 non-null    float64\n",
      " 4   wspd    365 non-null    float64\n",
      " 5   wpgt    365 non-null    int64  \n",
      " 6   pres    365 non-null    float64\n",
      " 7   tsun    365 non-null    int64  \n",
      "dtypes: float64(6), int64(2)\n",
      "memory usage: 25.7 KB\n",
      "\n",
      "--- After Step 2: df.head() ---\n",
      "            tavg  tmin  tmax  prcp  wspd  wpgt    pres  tsun\n",
      "date                                                        \n",
      "2023-01-01  10.6   7.5  13.6   4.8  19.0    50  1007.9    61\n",
      "2023-01-02   5.9   3.5   8.7   0.0  10.2    24  1016.9   174\n",
      "2023-01-03   8.6   2.1  12.7   0.0  18.6    53  1018.5     6\n",
      "2023-01-04  12.6  10.8  13.6   0.0  31.4    68  1014.6    49\n",
      "2023-01-05  11.4   8.9  13.4   0.0  20.7    47  1018.6    24\n"
     ]
    }
   ],
   "source": [
    "# Cleaning Step 2: Remove empty and near-empty columns \n",
    "\n",
    "# 1. Drop the 'wdir' and 'snow' columns\n",
    "\n",
    "df.drop(columns=['wdir', 'snow'], inplace=True)\n",
    "\n",
    "# 2. checking\n",
    "print(\"--- After Step 2: df.info() ---\")\n",
    "df.info()\n",
    "\n",
    "print(\"\\n--- After Step 2: df.head() ---\")\n",
    "print(df.head())"
   ]
  },
  {
   "cell_type": "markdown",
   "id": "5b84dd7a",
   "metadata": {
    "papermill": {
     "duration": 0.004962,
     "end_time": "2025-11-01T17:35:30.730575",
     "exception": false,
     "start_time": "2025-11-01T17:35:30.725613",
     "status": "completed"
    },
    "tags": []
   },
   "source": [
    "---"
   ]
  },
  {
   "cell_type": "markdown",
   "id": "89968796",
   "metadata": {
    "papermill": {
     "duration": 0.004967,
     "end_time": "2025-11-01T17:35:30.740833",
     "exception": false,
     "start_time": "2025-11-01T17:35:30.735866",
     "status": "completed"
    },
    "tags": []
   },
   "source": [
    "## Step-2 Finding a summer break\n",
    "\n",
    "According to meteorologists, summer extends for the whole months of June, July, and August in the northern hemisphere and the whole months of December, January, and February in the southern hemisphere. So create a dataframe that holds just those months using the `datetime` index."
   ]
  },
  {
   "cell_type": "code",
   "execution_count": 5,
   "id": "ed43643a",
   "metadata": {
    "execution": {
     "iopub.execute_input": "2025-11-01T17:35:30.752575Z",
     "iopub.status.busy": "2025-11-01T17:35:30.752225Z",
     "iopub.status.idle": "2025-11-01T17:35:30.768636Z",
     "shell.execute_reply": "2025-11-01T17:35:30.767400Z"
    },
    "papermill": {
     "duration": 0.024322,
     "end_time": "2025-11-01T17:35:30.770318",
     "exception": false,
     "start_time": "2025-11-01T17:35:30.745996",
     "status": "completed"
    },
    "tags": []
   },
   "outputs": [
    {
     "name": "stdout",
     "output_type": "stream",
     "text": [
      "Summer DataFrame created with 92 days.\n",
      "\n",
      "--- Head of summer_df (should be 2023-06-01) ---\n",
      "            tavg  tmin  tmax  prcp  wspd  wpgt    pres  tsun\n",
      "date                                                        \n",
      "2023-06-01  13.0   9.9  19.8   0.0  15.8    41  1025.5   439\n",
      "2023-06-02  13.8  10.5  19.4   0.0  16.7    37  1024.5   473\n",
      "\n",
      "--- Tail of summer_df (should be 2023-08-31) ---\n",
      "            tavg  tmin  tmax  prcp  wspd  wpgt    pres  tsun\n",
      "date                                                        \n",
      "2023-08-30  15.6  10.5  21.2   0.5  13.2    34  1008.7   378\n",
      "2023-08-31  14.2  11.3  18.9   0.0   9.0    25  1009.8     3\n"
     ]
    }
   ],
   "source": [
    "# Define the start and end dates for the 2023 summer period (London).\n",
    "start_summer = datetime(2023, 6, 1)\n",
    "end_summer = datetime(2023, 8, 31)\n",
    "\n",
    "# Use .loc to select the date range from our DatetimeIndex.\n",
    "# .copy() is used to create a new, independent DataFrame for analysis.\n",
    "summer_df = df.loc[start_summer : end_summer].copy()\n",
    "\n",
    "# --- Validation Step ---\n",
    "# Confirm the new DataFrame has the correct size and date range.\n",
    "\n",
    "# Expected count: 30 (Jun) + 31 (Jul) + 31 (Aug) = 92 days\n",
    "print(f\"Summer DataFrame created with {len(summer_df)} days.\")\n",
    "\n",
    "print(\"\\n--- Head of summer_df (should be 2023-06-01) ---\")\n",
    "print(summer_df.head(2))\n",
    "\n",
    "print(\"\\n--- Tail of summer_df (should be 2023-08-31) ---\")\n",
    "print(summer_df.tail(2))"
   ]
  },
  {
   "cell_type": "code",
   "execution_count": 6,
   "id": "2464defe",
   "metadata": {
    "execution": {
     "iopub.execute_input": "2025-11-01T17:35:30.782998Z",
     "iopub.status.busy": "2025-11-01T17:35:30.782192Z",
     "iopub.status.idle": "2025-11-01T17:35:31.763268Z",
     "shell.execute_reply": "2025-11-01T17:35:31.762159Z"
    },
    "papermill": {
     "duration": 0.989126,
     "end_time": "2025-11-01T17:35:31.765031",
     "exception": false,
     "start_time": "2025-11-01T17:35:30.775905",
     "status": "completed"
    },
    "tags": []
   },
   "outputs": [
    {
     "name": "stdout",
     "output_type": "stream",
     "text": [
      "--- Visual Analysis Plots (Find the Best Period) ---\n",
      "\n",
      "--- Top 5 Best 14-Day Periods (by Avg Sunshine) ---\n",
      "            Avg_Max_Temp  Avg_Sunshine  Total_Precip\n",
      "date                                                \n",
      "2023-06-16     25.807143    601.928571          40.7\n",
      "2023-06-17     26.078571    586.142857          40.7\n",
      "2023-06-15     25.185714    584.071429          40.7\n",
      "2023-06-14     24.635714    567.428571          40.7\n",
      "2023-06-18     26.400000    540.642857          41.7\n",
      "\n",
      "--- Top 5 Best 14-Day Periods (by Avg Max Temp) ---\n",
      "            Avg_Max_Temp  Avg_Sunshine  Total_Precip\n",
      "date                                                \n",
      "2023-06-23     27.728571    486.857143          47.0\n",
      "2023-06-22     27.685714    496.500000          47.0\n",
      "2023-06-25     27.607143    495.571429          47.0\n",
      "2023-06-24     27.600000    475.928571          47.0\n",
      "2023-06-26     27.392857    500.428571          34.3\n",
      "\n",
      "--- Top 5 Best 14-Day Periods (by Lowest Total Rain) ---\n",
      "            Avg_Max_Temp  Avg_Sunshine  Total_Precip\n",
      "date                                                \n",
      "2023-08-29     24.135714    334.642857           6.9\n",
      "2023-08-31     23.364286    295.071429           7.4\n",
      "2023-08-30     23.771429    327.928571           7.4\n",
      "2023-06-28     26.842857    411.357143           7.6\n",
      "2023-06-27     26.992857    453.428571           7.6\n"
     ]
    },
    {
     "data": {
      "image/png": "[encoded data removed]",
      "text/plain": [
       "<Figure size 1200x600 with 2 Axes>"
      ]
     },
     "metadata": {},
     "output_type": "display_data"
    },
    {
     "data": {
      "image/png": "[encoded data removed]",
      "text/plain": [
       "<Figure size 1200x400 with 1 Axes>"
      ]
     },
     "metadata": {},
     "output_type": "display_data"
    }
   ],
   "source": [
    "# --- Step 3: Analyze 14-Day Rolling Statistics (Compatibility Fix) ---\n",
    "\n",
    "# Define our 14-day (\"two week\") window\n",
    "window_size = 14\n",
    "\n",
    "# --- Calculate Rolling Statistics (The Compatible Way) ---\n",
    "# We'll calculate stats for our 'good weather' metrics:\n",
    "#  'tmax' (High Temp), 'tsun' (High Sunshine), 'prcp' (Low Rain)\n",
    "\n",
    "# 1. Create a new, empty DataFrame to hold our stats.\n",
    "#    This keeps the original 'summer_df' clean.\n",
    "rolling_stats = pd.DataFrame(index=summer_df.index)\n",
    "\n",
    "# 2. Calculate each rolling stat one by one and add it as a column.\n",
    "#    This method is guaranteed to work on all pandas versions.\n",
    "rolling_stats['Avg_Max_Temp'] = summer_df['tmax'].rolling(window=window_size).mean()\n",
    "rolling_stats['Avg_Sunshine'] = summer_df['tsun'].rolling(window=window_size).mean()\n",
    "rolling_stats['Total_Precip'] = summer_df['prcp'].rolling(window=window_size).sum()\n",
    "\n",
    "# --- 1. Visual Analysis (Plotting) ---\n",
    "# This lets us \"eyeball\" the best periods.\n",
    "print(\"--- Visual Analysis Plots (Find the Best Period) ---\")\n",
    "\n",
    "# Plot 1 & 2: Temperature and Sunshine\n",
    "# We're looking for the PEAKS (highest points) on these graphs.\n",
    "rolling_stats[['Avg_Max_Temp', 'Avg_Sunshine']].plot(\n",
    "    grid=True, \n",
    "    figsize=(12, 6),\n",
    "    title='14-Day Averages: Max Temp & Sunshine (Find the Peaks)',\n",
    "    subplots=True,\n",
    "    layout=(2,1) # Arrange them in 2 rows, 1 column\n",
    ")\n",
    "# We expect to see a \n",
    "\n",
    "# Plot 3: Precipitation\n",
    "# We're looking for the VALLEYS (lowest points) on this graph.\n",
    "rolling_stats[['Total_Precip']].plot(\n",
    "    grid=True, \n",
    "    figsize=(12, 4),\n",
    "    title='14-Day Total Precipitation (Find the Valleys)',\n",
    "    color='blue'\n",
    ")\n",
    "\n",
    "# --- 2. Programmatic Analysis (Sorting) ---\n",
    "# We can also sort the data to get an exact \"best\" date.\n",
    "# This confirms what we see in the plots.\n",
    "# (We drop NaN rows first, which are the first 13 days)\n",
    "final_stats = rolling_stats.dropna()\n",
    "\n",
    "print(\"\\n--- Top 5 Best 14-Day Periods (by Avg Sunshine) ---\")\n",
    "# The date shown is the *end date* of the 14-day period.\n",
    "print(final_stats.sort_values(by='Avg_Sunshine', ascending=False).head())\n",
    "\n",
    "print(\"\\n--- Top 5 Best 14-Day Periods (by Avg Max Temp) ---\")\n",
    "print(final_stats.sort_values(by='Avg_Max_Temp', ascending=False).head())\n",
    "\n",
    "print(\"\\n--- Top 5 Best 14-Day Periods (by Lowest Total Rain) ---\")\n",
    "print(final_stats.sort_values(by='Total_Precip', ascending=True).head())"
   ]
  },
  {
   "cell_type": "markdown",
   "id": "1b8b2905",
   "metadata": {
    "papermill": {
     "duration": 0.007099,
     "end_time": "2025-11-01T17:35:31.780023",
     "exception": false,
     "start_time": "2025-11-01T17:35:31.772924",
     "status": "completed"
    },
    "tags": []
   },
   "source": [
    "---"
   ]
  },
  {
   "cell_type": "markdown",
   "id": "77ebef0b",
   "metadata": {
    "papermill": {
     "duration": 0.007187,
     "end_time": "2025-11-01T17:35:31.794674",
     "exception": false,
     "start_time": "2025-11-01T17:35:31.787487",
     "status": "completed"
    },
    "tags": []
   },
   "source": [
    "## Step 4: Final Conclusion & Holiday Recommendations\n",
    "\n",
    "This project's goal was to analyze the 2023 London Heathrow weather data to find the best-predicted 14-day (two-week) period for a summer holiday.\n",
    "\n",
    "After cleaning the data, isolating the summer months (June-August), and performing a 14-day rolling window analysis, it's clear there are different \"best\" periods depending on a holiday-maker's priority.\n",
    "\n",
    "Here is a breakdown of the top candidates based on the 2023 data.\n",
    "\n",
    "---\n",
    "\n",
    "### Option 1: For Maximum Sunshine\n",
    "This period had the highest average daily sunshine of the entire summer.\n",
    "\n",
    "* **Period:** June 3, 2023 – June 16, 2023\n",
    "* **Average Max Temp:** 25.8°C (Pleasantly hot)\n",
    "* **Average Sunshine:** **601.9 mins/day (10 hours!)**\n",
    "* **Total Rain:** 40.7 mm\n",
    "* **Analysis:** This is the ultimate sun-worshipper's choice. However, the high sunshine and heat came with a trade-off: a significant amount of rain (40.7 mm), suggesting a risk of showers.\n",
    "\n",
    "---\n",
    "\n",
    "### Option 2: For Maximum Heat\n",
    "This was the absolute hottest two-week period of the summer.\n",
    "\n",
    "* **Period:** June 10, 2023 – June 23, 2023\n",
    "* **Average Max Temp:** **27.7°C (Hottest)**\n",
    "* **Average Sunshine:** 486.8 mins/day (Very sunny)\n",
    "* **Total Rain:** 47.0 mm\n",
    "* **Analysis:** If the main goal is a \"scorcher\" holiday, this is the one. However, like the sunniest period, it also saw one of the highest rainfall totals, suggesting hot and stormy weather.\n",
    "\n",
    "---\n",
    "\n",
    "### Option 3: For Driest Weather (The \"Safest\" Bet)\n",
    "This period had the least amount of rain, guaranteeing the most \"usable\" outdoor days.\n",
    "\n",
    "* **Period:** August 16, 2023 – August 29, 2023\n",
    "* **Average Max Temp:** 24.1°C (Warm and comfortable)\n",
    "* **Average Sunshine:** 334.6 mins/day (Good, but less sunny)\n",
    "* **Total Rain:** **6.9 mm (Almost none!)**\n",
    "* **Analysis:** This is the \"safe\" bet. You would be very unlikely to get rained out, but you would be trading the peak heat and sunshine of June for more moderate, comfortable weather.\n",
    "\n",
    "---\n",
    "\n",
    "### Final Project Recommendation: The \"Best All-Rounder\"\n",
    "\n",
    "While all options have merit, the data points to one period that provides the best balance of all three metrics.\n",
    "\n",
    "> **Recommended Holiday Period: June 15, 2023 – June 28, 2023**\n",
    "\n",
    "**Justification:**\n",
    "This 14-day period (ending June 28th) represents the \"best of all worlds\" and is the top recommendation:\n",
    "\n",
    "1.  **Low Rain:** It was one of the driest periods of the summer, with only **7.6 mm of total rain** (ranking in the Top 5 driest).\n",
    "2.  **High Heat:** It was also one of the hottest, with an average max temp of **26.8°C** (nearly matching the absolute peak).\n",
    "3.  **Great Sun:** It maintained strong sunshine with **411.3 average minutes/day**.\n",
    "\n",
    "This period managed to capture the \"peak heat\" of late June while also being in the \"dry valley,\" making it the ideal choice for a hot, sunny, and reliably dry holiday based on the 2023 data."
   ]
  },
  {
   "cell_type": "markdown",
   "id": "eb874bf8",
   "metadata": {
    "papermill": {
     "duration": 0.006996,
     "end_time": "2025-11-01T17:35:31.808922",
     "exception": false,
     "start_time": "2025-11-01T17:35:31.801926",
     "status": "completed"
    },
    "tags": []
   },
   "source": [
    "# Publication Link"
   ]
  },
  {
   "cell_type": "markdown",
   "id": "f41f93ab",
   "metadata": {
    "papermill": {
     "duration": 0.007218,
     "end_time": "2025-11-01T17:35:31.823763",
     "exception": false,
     "start_time": "2025-11-01T17:35:31.816545",
     "status": "completed"
    },
    "tags": []
   },
   "source": [
    "https://nerdyalgorithm.hashnode.dev/week-7-at-dataraflow-the-project-behind-the-project"
   ]
  },
  {
   "cell_type": "code",
   "execution_count": null,
   "id": "6c4635e8",
   "metadata": {
    "papermill": {
     "duration": 0.006978,
     "end_time": "2025-11-01T17:35:31.837972",
     "exception": false,
     "start_time": "2025-11-01T17:35:31.830994",
     "status": "completed"
    },
    "tags": []
   },
   "outputs": [],
   "source": []
  }
 ],
 "metadata": {
  "kaggle": {
   "accelerator": "none",
   "dataSources": [
    {
     "datasetId": 8603630,
     "sourceId": 13547004,
     "sourceType": "datasetVersion"
    },
    {
     "datasetId": 8604040,
     "sourceId": 13547552,
     "sourceType": "datasetVersion"
    }
   ],
   "dockerImageVersionId": 31153,
   "isGpuEnabled": false,
   "isInternetEnabled": true,
   "language": "python",
   "sourceType": "notebook"
  },
  "kernelspec": {
   "display_name": "Python 3",
   "language": "python",
   "name": "python3"
  },
  "language_info": {
   "codemirror_mode": {
    "name": "ipython",
    "version": 3
   },
   "file_extension": ".py",
   "mimetype": "text/x-python",
   "name": "python",
   "nbconvert_exporter": "python",
   "pygments_lexer": "ipython3",
   "version": "3.11.13"
  },
  "papermill": {
   "default_parameters": {},
   "duration": 9.56138,
   "end_time": "2025-11-01T17:35:32.366628",
   "environment_variables": {},
   "exception": null,
   "input_path": "__notebook__.ipynb",
   "output_path": "__notebook__.ipynb",
   "parameters": {},
   "start_time": "2025-11-01T17:35:22.805248",
   "version": "2.6.0"
  }
 },
 "nbformat": 4,
 "nbformat_minor": 5
}
