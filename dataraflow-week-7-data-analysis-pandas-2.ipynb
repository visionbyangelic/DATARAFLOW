{
 "cells": [
  {
   "cell_type": "markdown",
   "id": "fa16d5af",
   "metadata": {
    "papermill": {
     "duration": 0.004087,
     "end_time": "2025-10-29T19:06:45.130058",
     "exception": false,
     "start_time": "2025-10-29T19:06:45.125971",
     "status": "completed"
    },
    "tags": []
   },
   "source": [
    "# Task\n",
    "\n",
    "### Solve Notebook-1 Tasks Below"
   ]
  },
  {
   "cell_type": "code",
   "execution_count": null,
   "id": "f8ae9d23",
   "metadata": {
    "papermill": {
     "duration": 0.0029,
     "end_time": "2025-10-29T19:06:45.136399",
     "exception": false,
     "start_time": "2025-10-29T19:06:45.133499",
     "status": "completed"
    },
    "tags": []
   },
   "outputs": [],
   "source": []
  },
  {
   "cell_type": "markdown",
   "id": "1c8888ad",
   "metadata": {
    "papermill": {
     "duration": 0.002972,
     "end_time": "2025-10-29T19:06:45.142528",
     "exception": false,
     "start_time": "2025-10-29T19:06:45.139556",
     "status": "completed"
    },
    "tags": []
   },
   "source": [
    "### Solve Notebook-2 Tasks Below"
   ]
  },
  {
   "cell_type": "code",
   "execution_count": null,
   "id": "6fa71252",
   "metadata": {
    "papermill": {
     "duration": 0.00281,
     "end_time": "2025-10-29T19:06:45.148378",
     "exception": false,
     "start_time": "2025-10-29T19:06:45.145568",
     "status": "completed"
    },
    "tags": []
   },
   "outputs": [],
   "source": []
  },
  {
   "cell_type": "markdown",
   "id": "bb6cf461",
   "metadata": {
    "papermill": {
     "duration": 0.002826,
     "end_time": "2025-10-29T19:06:45.154217",
     "exception": false,
     "start_time": "2025-10-29T19:06:45.151391",
     "status": "completed"
    },
    "tags": []
   },
   "source": [
    "# Project :  Holiday weather\n",
    "\n",
    "\n",
    "There is nothing I like better than taking a holiday. In this project I am going to use the historic weather data from the Weather Underground for London to try to predict two good weather weeks to take off as holiday. Of course the weather in the summer of 2025 may be very different to 2020 but it should give some indication of when would be a good time to take a summer break.\n",
    "\n",
    "## Getting the data\n",
    "\n",
    "Weather Underground keeps historical weather data collected in many airports around the world. Right-click on the following URL and choose 'Open Link in New Window' (or similar, depending on your browser):\n",
    "\n",
    "http://www.wunderground.com/history\n",
    "\n",
    "When the new page opens start typing 'LHR' in the 'Location' input box and when the pop up menu comes up with the option 'LHR, United Kingdom' select it and then click on 'Submit'. \n",
    "\n",
    "When the next page opens with London Heathrow data, click on the 'Custom' tab and select the time period From: 1 January 2023 to: 31 December 2023 and then click on 'Get History'. The data for that year should then be displayed further down the page. \n",
    "\n",
    "You can copy each month's data directly from the browser to a text editor like Notepad or TextEdit, to obtain a single file with as many months as you wish.\n",
    "\n",
    "\n",
    "Now load the CSV file into a dataframe making sure that any extra spaces are skipped:"
   ]
  },
  {
   "cell_type": "markdown",
   "id": "4921b62e",
   "metadata": {
    "papermill": {
     "duration": 0.002779,
     "end_time": "2025-10-29T19:06:45.160100",
     "exception": false,
     "start_time": "2025-10-29T19:06:45.157321",
     "status": "completed"
    },
    "tags": []
   },
   "source": [
    "## Step-1 Cleaning the data\n"
   ]
  },
  {
   "cell_type": "code",
   "execution_count": 1,
   "id": "fd0d4511",
   "metadata": {
    "execution": {
     "iopub.execute_input": "2025-10-29T19:06:45.167425Z",
     "iopub.status.busy": "2025-10-29T19:06:45.167081Z",
     "iopub.status.idle": "2025-10-29T19:06:45.175868Z",
     "shell.execute_reply": "2025-10-29T19:06:45.174749Z"
    },
    "papermill": {
     "duration": 0.014252,
     "end_time": "2025-10-29T19:06:45.177362",
     "exception": false,
     "start_time": "2025-10-29T19:06:45.163110",
     "status": "completed"
    },
    "tags": []
   },
   "outputs": [
    {
     "name": "stdout",
     "output_type": "stream",
     "text": [
      "Warning filters have been set.\n"
     ]
    }
   ],
   "source": [
    "import warnings\n",
    "warnings.filterwarnings(\"ignore\", category=RuntimeWarning)\n",
    "print(\"Warning filters have been set.\")"
   ]
  },
  {
   "cell_type": "code",
   "execution_count": 2,
   "id": "6e10bc10",
   "metadata": {
    "execution": {
     "iopub.execute_input": "2025-10-29T19:06:45.185793Z",
     "iopub.status.busy": "2025-10-29T19:06:45.184978Z",
     "iopub.status.idle": "2025-10-29T19:06:47.366931Z",
     "shell.execute_reply": "2025-10-29T19:06:47.366055Z"
    },
    "papermill": {
     "duration": 2.187562,
     "end_time": "2025-10-29T19:06:47.368604",
     "exception": false,
     "start_time": "2025-10-29T19:06:45.181042",
     "status": "completed"
    },
    "tags": []
   },
   "outputs": [],
   "source": [
    "import pandas as pd\n",
    "import numpy as np\n",
    "df = pd.read_csv('/kaggle/input/heathrow-airport-meteostat/export.csv')\n"
   ]
  },
  {
   "cell_type": "code",
   "execution_count": 3,
   "id": "447a12a2",
   "metadata": {
    "execution": {
     "iopub.execute_input": "2025-10-29T19:06:47.376671Z",
     "iopub.status.busy": "2025-10-29T19:06:47.376390Z",
     "iopub.status.idle": "2025-10-29T19:06:47.417881Z",
     "shell.execute_reply": "2025-10-29T19:06:47.416631Z"
    },
    "papermill": {
     "duration": 0.047259,
     "end_time": "2025-10-29T19:06:47.419389",
     "exception": false,
     "start_time": "2025-10-29T19:06:47.372130",
     "status": "completed"
    },
    "tags": []
   },
   "outputs": [
    {
     "name": "stdout",
     "output_type": "stream",
     "text": [
      "--- Initial Data Information ---\n",
      "<class 'pandas.core.frame.DataFrame'>\n",
      "RangeIndex: 365 entries, 0 to 364\n",
      "Data columns (total 11 columns):\n",
      " #   Column  Non-Null Count  Dtype  \n",
      "---  ------  --------------  -----  \n",
      " 0   date    365 non-null    object \n",
      " 1   tavg    365 non-null    float64\n",
      " 2   tmin    365 non-null    float64\n",
      " 3   tmax    365 non-null    float64\n",
      " 4   prcp    365 non-null    float64\n",
      " 5   snow    4 non-null      float64\n",
      " 6   wdir    0 non-null      float64\n",
      " 7   wspd    365 non-null    float64\n",
      " 8   wpgt    365 non-null    int64  \n",
      " 9   pres    365 non-null    float64\n",
      " 10  tsun    365 non-null    int64  \n",
      "dtypes: float64(8), int64(2), object(1)\n",
      "memory usage: 31.5+ KB\n",
      "\n",
      "--- First 5 Rows ---\n",
      "                  date  tavg  tmin  tmax  prcp  snow  wdir  wspd  wpgt  \\\n",
      "0  2023-01-01 00:00:00  10.6   7.5  13.6   4.8   NaN   NaN  19.0    50   \n",
      "1  2023-01-02 00:00:00   5.9   3.5   8.7   0.0   NaN   NaN  10.2    24   \n",
      "2  2023-01-03 00:00:00   8.6   2.1  12.7   0.0   NaN   NaN  18.6    53   \n",
      "3  2023-01-04 00:00:00  12.6  10.8  13.6   0.0   NaN   NaN  31.4    68   \n",
      "4  2023-01-05 00:00:00  11.4   8.9  13.4   0.0   NaN   NaN  20.7    47   \n",
      "\n",
      "     pres  tsun  \n",
      "0  1007.9    61  \n",
      "1  1016.9   174  \n",
      "2  1018.5     6  \n",
      "3  1014.6    49  \n",
      "4  1018.6    24  \n"
     ]
    }
   ],
   "source": [
    "# --- 1. Initial Inspection ---\n",
    "print(\"--- Initial Data Information ---\")\n",
    "df.info()\n",
    "\n",
    "print(\"\\n--- First 5 Rows ---\")\n",
    "print(df.head())"
   ]
  },
  {
   "cell_type": "code",
   "execution_count": 4,
   "id": "eb05af23",
   "metadata": {
    "execution": {
     "iopub.execute_input": "2025-10-29T19:06:47.427563Z",
     "iopub.status.busy": "2025-10-29T19:06:47.427289Z",
     "iopub.status.idle": "2025-10-29T19:06:47.449166Z",
     "shell.execute_reply": "2025-10-29T19:06:47.448226Z"
    },
    "papermill": {
     "duration": 0.028047,
     "end_time": "2025-10-29T19:06:47.450983",
     "exception": false,
     "start_time": "2025-10-29T19:06:47.422936",
     "status": "completed"
    },
    "tags": []
   },
   "outputs": [
    {
     "name": "stdout",
     "output_type": "stream",
     "text": [
      "--- Cleaned Data Info ---\n",
      "<class 'pandas.core.frame.DataFrame'>\n",
      "DatetimeIndex: 365 entries, 2023-01-01 to 2023-12-31\n",
      "Data columns (total 8 columns):\n",
      " #   Column  Non-Null Count  Dtype  \n",
      "---  ------  --------------  -----  \n",
      " 0   tavg    365 non-null    float64\n",
      " 1   tmin    365 non-null    float64\n",
      " 2   tmax    365 non-null    float64\n",
      " 3   prcp    365 non-null    float64\n",
      " 4   wspd    365 non-null    float64\n",
      " 5   wpgt    365 non-null    int64  \n",
      " 6   pres    365 non-null    float64\n",
      " 7   tsun    365 non-null    int64  \n",
      "dtypes: float64(6), int64(2)\n",
      "memory usage: 25.7 KB\n",
      "\n",
      "--- Cleaned Data Head ---\n",
      "            tavg  tmin  tmax  prcp  wspd  wpgt    pres  tsun\n",
      "date                                                        \n",
      "2023-01-01  10.6   7.5  13.6   4.8  19.0    50  1007.9    61\n",
      "2023-01-02   5.9   3.5   8.7   0.0  10.2    24  1016.9   174\n",
      "2023-01-03   8.6   2.1  12.7   0.0  18.6    53  1018.5     6\n",
      "2023-01-04  12.6  10.8  13.6   0.0  31.4    68  1014.6    49\n",
      "2023-01-05  11.4   8.9  13.4   0.0  20.7    47  1018.6    24\n"
     ]
    }
   ],
   "source": [
    "# --- 2. Data Cleaning ---\n",
    "\n",
    "# --- Fix Problem 1: Convert 'date' column from text (object) to a datetime object\n",
    "df['date'] = pd.to_datetime(df['date'])\n",
    "\n",
    "# --- Fix Problems 2 & 3: Drop empty columns (drop 'wdir' (100% empty) and 'snow' (99% empty) )\n",
    "df = df.drop(columns=['wdir', 'snow'])\n",
    "\n",
    "# --- Final Step: Set the 'date' as the index \n",
    "df = df.set_index('date')\n",
    "\n",
    "# --- Verification \n",
    "print(\"--- Cleaned Data Info ---\")\n",
    "\n",
    "df.info()\n",
    "\n",
    "print(\"\\n--- Cleaned Data Head ---\")\n",
    "print(df.head())"
   ]
  },
  {
   "cell_type": "markdown",
   "id": "94a43102",
   "metadata": {
    "papermill": {
     "duration": 0.003334,
     "end_time": "2025-10-29T19:06:47.458064",
     "exception": false,
     "start_time": "2025-10-29T19:06:47.454730",
     "status": "completed"
    },
    "tags": []
   },
   "source": [
    "---"
   ]
  },
  {
   "cell_type": "markdown",
   "id": "5fbae878",
   "metadata": {
    "papermill": {
     "duration": 0.003227,
     "end_time": "2025-10-29T19:06:47.464988",
     "exception": false,
     "start_time": "2025-10-29T19:06:47.461761",
     "status": "completed"
    },
    "tags": []
   },
   "source": [
    "## Step-2 Finding a summer break\n",
    "\n",
    "According to meteorologists, summer extends for the whole months of June, July, and August in the northern hemisphere and the whole months of December, January, and February in the southern hemisphere. So create a dataframe that holds just those months using the `datetime` index."
   ]
  },
  {
   "cell_type": "code",
   "execution_count": 5,
   "id": "1a91b92c",
   "metadata": {
    "execution": {
     "iopub.execute_input": "2025-10-29T19:06:47.472697Z",
     "iopub.status.busy": "2025-10-29T19:06:47.472393Z",
     "iopub.status.idle": "2025-10-29T19:06:47.499781Z",
     "shell.execute_reply": "2025-10-29T19:06:47.498717Z"
    },
    "papermill": {
     "duration": 0.033086,
     "end_time": "2025-10-29T19:06:47.501346",
     "exception": false,
     "start_time": "2025-10-29T19:06:47.468260",
     "status": "completed"
    },
    "tags": []
   },
   "outputs": [
    {
     "name": "stdout",
     "output_type": "stream",
     "text": [
      "--- Summer Dataframe Created: 92 days ---\n",
      "\n",
      "First 5 rows (starting June 1st):\n",
      "            tavg  tmin  tmax  prcp  wspd  wpgt    pres  tsun\n",
      "date                                                        \n",
      "2023-06-01  13.0   9.9  19.8   0.0  15.8    41  1025.5   439\n",
      "2023-06-02  13.8  10.5  19.4   0.0  16.7    37  1024.5   473\n",
      "2023-06-03  15.2   7.4  22.8   0.0  14.0    35  1023.4   538\n",
      "2023-06-04  16.1   9.1  22.6   0.0  13.2    35  1023.8   781\n",
      "2023-06-05  13.4   9.5  21.4   0.0  14.8    32  1024.5   513\n",
      "\n",
      "Last 5 rows (ending August 31st):\n",
      "            tavg  tmin  tmax  prcp  wspd  wpgt    pres  tsun\n",
      "date                                                        \n",
      "2023-08-27  15.4  10.5  21.5   1.0  14.1    38  1010.7   312\n",
      "2023-08-28  16.2  12.0  21.0   0.3   9.5    27  1014.6   279\n",
      "2023-08-29  16.6  14.5  21.5   0.0  11.7    37  1012.3   244\n",
      "2023-08-30  15.6  10.5  21.2   0.5  13.2    34  1008.7   378\n",
      "2023-08-31  14.2  11.3  18.9   0.0   9.0    25  1009.8     3\n"
     ]
    }
   ],
   "source": [
    "summer_df = df.loc['2023-06-01':'2023-08-31'].copy()\n",
    "\n",
    "# --- Verification ---\n",
    "# check the first and last few rows to make sure.\n",
    "print(f\"--- Summer Dataframe Created: {len(summer_df)} days ---\")\n",
    "print(\"\\nFirst 5 rows (starting June 1st):\")\n",
    "print(summer_df.head())\n",
    "print(\"\\nLast 5 rows (ending August 31st):\")\n",
    "print(summer_df.tail())"
   ]
  },
  {
   "cell_type": "code",
   "execution_count": 6,
   "id": "0df85d7d",
   "metadata": {
    "execution": {
     "iopub.execute_input": "2025-10-29T19:06:47.509681Z",
     "iopub.status.busy": "2025-10-29T19:06:47.509411Z",
     "iopub.status.idle": "2025-10-29T19:06:47.538070Z",
     "shell.execute_reply": "2025-10-29T19:06:47.536745Z"
    },
    "papermill": {
     "duration": 0.034858,
     "end_time": "2025-10-29T19:06:47.539850",
     "exception": false,
     "start_time": "2025-10-29T19:06:47.504992",
     "status": "completed"
    },
    "tags": []
   },
   "outputs": [
    {
     "name": "stdout",
     "output_type": "stream",
     "text": [
      "--- Top 5 Best 14-Day Periods (by Holiday Score) ---\n",
      "            tavg  tmin  tmax  prcp  wspd  wpgt    pres  tsun  \\\n",
      "date                                                           \n",
      "2023-06-27  18.7  14.4  23.2   0.0  14.7    33  1021.0   111   \n",
      "2023-06-28  20.7  18.3  26.6   0.0  15.0    35  1017.2   115   \n",
      "2023-06-26  18.6  13.9  25.7   0.0  19.8    46  1019.4   438   \n",
      "2023-06-22  21.3  14.5  29.0   0.0   8.8    35  1018.7   570   \n",
      "2023-06-23  21.6  16.4  27.6   0.0  11.6    37  1023.2   540   \n",
      "\n",
      "            Avg_Max_Temp_14Day  Total_Precip_14Day  Total_Sunshine_14Day  \\\n",
      "date                                                                       \n",
      "2023-06-27           26.992857                 7.6                6348.0   \n",
      "2023-06-28           26.842857                 7.6                5759.0   \n",
      "2023-06-26           27.392857                34.3                7006.0   \n",
      "2023-06-22           27.685714                47.0                6951.0   \n",
      "2023-06-23           27.728571                47.0                6816.0   \n",
      "\n",
      "            Score_Temp  Score_Precip  Score_Sunshine  Holiday_Score  \n",
      "date                                                                 \n",
      "2023-06-27    0.870765      0.988176        0.628883       2.923206  \n",
      "2023-06-28    0.844417      0.988176        0.523742       2.778542  \n",
      "2023-06-26    0.941029      0.537162        0.746341       2.695046  \n",
      "2023-06-22    0.992472      0.322635        0.736523       2.547865  \n",
      "2023-06-23    1.000000      0.322635        0.712424       2.535059  \n"
     ]
    }
   ],
   "source": [
    "# 4. Analysis: Find Best 14-Day Holiday Period\n",
    "\n",
    "# Define the period for our analysis\n",
    "window_size = 14\n",
    "\n",
    "# Calculate 14-Day Rolling Statistics \n",
    "# We calculate the statistics for our three key weather metrics (tmax, prcp, tsun) using a 14-day \"sliding window\" (.rolling). \n",
    "#We use .mean() for temperature and .sum() for totals.\n",
    "\n",
    "summer_df['Avg_Max_Temp_14Day'] = summer_df['tmax'].rolling(window=window_size).mean()\n",
    "summer_df['Total_Precip_14Day'] = summer_df['prcp'].rolling(window=window_size).sum()\n",
    "summer_df['Total_Sunshine_14Day'] = summer_df['tsun'].rolling(window=window_size).sum()\n",
    "\n",
    "# Normalize Metrics for Fair Comparison \n",
    "# To combine these different scales (C°, mm, minutes), we normalize each metric to a common scale from 0 to 1.\n",
    "# Score_Temp: Normalized temperature (1.0 = hottest, 0.0 = coolest).\n",
    "\n",
    "summer_df['Score_Temp'] = (summer_df['Avg_Max_Temp_14Day'] - summer_df['Avg_Max_Temp_14Day'].min()) / \\\n",
    "                          (summer_df['Avg_Max_Temp_14Day'].max() - summer_df['Avg_Max_Temp_14Day'].min())\n",
    "\n",
    "# Score_Precip: Normalized precipitation (1.0 = least rain, 0.0 = most rain).\n",
    "# Note: We reverse the calculation (max - value) / (max - min) so that a low rainfall gets a high score.\n",
    "\n",
    "summer_df['Score_Precip'] = (summer_df['Total_Precip_14Day'].max() - summer_df['Total_Precip_14Day']) / \\\n",
    "                           (summer_df['Total_Precip_14Day'].max() - summer_df['Total_Precip_14Day'].min())\n",
    "\n",
    "# Score_Sunshine: Normalized sunshine (1.0 = sunniest, 0.0 = cloudiest).\n",
    "summer_df['Score_Sunshine'] = (summer_df['Total_Sunshine_14Day'] - summer_df['Total_Sunshine_14Day'].min()) / \\\n",
    "                              (summer_df['Total_Sunshine_14Day'].max() - summer_df['Total_Sunshine_14Day'].min())\n",
    "\n",
    "# --- Calculate Final Holiday Score ---\n",
    "# combine the normalized scores into a single 'Holiday_Score'.\n",
    "# apply a 1.5x weight to temperature, making it the most important factor in our model.\n",
    "summer_df['Holiday_Score'] = (summer_df['Score_Temp'] * 1.5) + \\\n",
    "                             summer_df['Score_Sunshine'] + \\\n",
    "                             summer_df['Score_Precip']\n",
    "\n",
    "# --- Verification ---\n",
    "# Display the top 5 best-scoring periods.\n",
    "# use .dropna() to remove the first 13 days of June, as they do not have a full 14-day window for calculation.\n",
    "print(\"--- Top 5 Best 14-Day Periods (by Holiday Score) ---\")\n",
    "print(summer_df.dropna().sort_values('Holiday_Score', ascending=False).head())"
   ]
  },
  {
   "cell_type": "code",
   "execution_count": 7,
   "id": "2b636f85",
   "metadata": {
    "execution": {
     "iopub.execute_input": "2025-10-29T19:06:47.548543Z",
     "iopub.status.busy": "2025-10-29T19:06:47.548266Z",
     "iopub.status.idle": "2025-10-29T19:06:47.556396Z",
     "shell.execute_reply": "2025-10-29T19:06:47.555154Z"
    },
    "papermill": {
     "duration": 0.014199,
     "end_time": "2025-10-29T19:06:47.557857",
     "exception": false,
     "start_time": "2025-10-29T19:06:47.543658",
     "status": "completed"
    },
    "tags": []
   },
   "outputs": [
    {
     "name": "stdout",
     "output_type": "stream",
     "text": [
      "--- 🏆 Holiday Recommendation ---\n",
      "\n",
      "Based on the 2023 data analysis, the best two-week holiday period is:\n",
      "  Start Date: June 14, 2023\n",
      "  End Date:   June 27, 2023\n",
      "\n",
      "Weather stats for this winning period:\n",
      "  Average Max Temp: 27.0°C\n",
      "  Total Precipitation: 7.6 mm\n",
      "  Total Sunshine: 105.8 hours\n"
     ]
    }
   ],
   "source": [
    "# --- 5. Final Recommendation ---\n",
    "\n",
    "# .idxmax() finds the date (the index) of the highest 'Holiday_Score'\n",
    "# This is the *end date* of the best 14-day period.\n",
    "best_end_date = summer_df['Holiday_Score'].idxmax()\n",
    "\n",
    "# Calculate the start date\n",
    "# (We subtract 13 days to get a 14-day inclusive period)\n",
    "best_start_date = best_end_date - pd.Timedelta(days=(window_size - 1))\n",
    "\n",
    "# Get the full row of stats for that best day\n",
    "best_period_stats = summer_df.loc[best_end_date]\n",
    "\n",
    "\n",
    "# --- Display The Final Result ---\n",
    "print(\"--- 🏆 Holiday Recommendation ---\")\n",
    "print(\"\\nBased on the 2023 data analysis, the best two-week holiday period is:\")\n",
    "print(f\"  Start Date: {best_start_date.strftime('%B %d, %Y')}\")\n",
    "print(f\"  End Date:   {best_end_date.strftime('%B %d, %Y')}\")\n",
    "\n",
    "print(\"\\nWeather stats for this winning period:\")\n",
    "print(f\"  Average Max Temp: {best_period_stats['Avg_Max_Temp_14Day']:.1f}°C\")\n",
    "print(f\"  Total Precipitation: {best_period_stats['Total_Precip_14Day']:.1f} mm\")\n",
    "print(f\"  Total Sunshine: {best_period_stats['Total_Sunshine_14Day']/60:.1f} hours\")"
   ]
  },
  {
   "cell_type": "markdown",
   "id": "ea846b71",
   "metadata": {
    "papermill": {
     "duration": 0.003419,
     "end_time": "2025-10-29T19:06:47.565035",
     "exception": false,
     "start_time": "2025-10-29T19:06:47.561616",
     "status": "completed"
    },
    "tags": []
   },
   "source": [
    "# Publication Link"
   ]
  },
  {
   "cell_type": "markdown",
   "id": "9204ee96",
   "metadata": {
    "papermill": {
     "duration": 0.003225,
     "end_time": "2025-10-29T19:06:47.571763",
     "exception": false,
     "start_time": "2025-10-29T19:06:47.568538",
     "status": "completed"
    },
    "tags": []
   },
   "source": []
  }
 ],
 "metadata": {
  "kaggle": {
   "accelerator": "none",
   "dataSources": [
    {
     "datasetId": 8603630,
     "sourceId": 13547004,
     "sourceType": "datasetVersion"
    }
   ],
   "dockerImageVersionId": 31153,
   "isGpuEnabled": false,
   "isInternetEnabled": true,
   "language": "python",
   "sourceType": "notebook"
  },
  "kernelspec": {
   "display_name": "Python 3",
   "language": "python",
   "name": "python3"
  },
  "language_info": {
   "codemirror_mode": {
    "name": "ipython",
    "version": 3
   },
   "file_extension": ".py",
   "mimetype": "text/x-python",
   "name": "python",
   "nbconvert_exporter": "python",
   "pygments_lexer": "ipython3",
   "version": "3.11.13"
  },
  "papermill": {
   "default_parameters": {},
   "duration": 8.268728,
   "end_time": "2025-10-29T19:06:48.097221",
   "environment_variables": {},
   "exception": null,
   "input_path": "__notebook__.ipynb",
   "output_path": "__notebook__.ipynb",
   "parameters": {},
   "start_time": "2025-10-29T19:06:39.828493",
   "version": "2.6.0"
  }
 },
 "nbformat": 4,
 "nbformat_minor": 5
}
